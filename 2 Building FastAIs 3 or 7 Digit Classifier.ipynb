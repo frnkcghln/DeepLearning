{
 "cells": [
  {
   "cell_type": "markdown",
   "metadata": {},
   "source": [
    "# Rebuilding Fastai's 3 or 7 Digit Classifier"
   ]
  },
  {
   "cell_type": "markdown",
   "metadata": {},
   "source": [
    "### Setup and data preparation"
   ]
  },
  {
   "cell_type": "code",
   "execution_count": 1,
   "metadata": {},
   "outputs": [],
   "source": [
    "# !pip install -Uqq fastbook\n",
    "\n",
    "import fastbook\n",
    "fastbook.setup_book()\n",
    "\n",
    "from fastai.vision.all import *\n",
    "from fastbook import *\n",
    "\n",
    "matplotlib.rc('image', cmap='Greys')"
   ]
  },
  {
   "cell_type": "code",
   "execution_count": 2,
   "metadata": {},
   "outputs": [
    {
     "data": {
      "text/html": [
       "\n",
       "    <div>\n",
       "        <style>\n",
       "            /* Turns off some styling */\n",
       "            progress {\n",
       "                /* gets rid of default border in Firefox and Opera. */\n",
       "                border: none;\n",
       "                /* Needs to be in here for Safari polyfill so background images work as expected. */\n",
       "                background-size: auto;\n",
       "            }\n",
       "            .progress-bar-interrupted, .progress-bar-interrupted::-webkit-progress-bar {\n",
       "                background: #F44336;\n",
       "            }\n",
       "        </style>\n",
       "      <progress value='3219456' class='' max='3214948' style='width:300px; height:20px; vertical-align: middle;'></progress>\n",
       "      100.14% [3219456/3214948 00:00<00:00]\n",
       "    </div>\n",
       "    "
      ],
      "text/plain": [
       "<IPython.core.display.HTML object>"
      ]
     },
     "metadata": {},
     "output_type": "display_data"
    }
   ],
   "source": [
    "# Getting sample data from the MNIST dataset\n",
    "\n",
    "path = untar_data(URLs.MNIST_SAMPLE)"
   ]
  },
  {
   "cell_type": "code",
   "execution_count": 3,
   "metadata": {},
   "outputs": [],
   "source": [
    "# Setting the base path to simplify path structures\n",
    "\n",
    "Path.BASE_PATH = path"
   ]
  },
  {
   "cell_type": "code",
   "execution_count": 4,
   "metadata": {},
   "outputs": [
    {
     "data": {
      "text/plain": [
       "(#3) [Path('train'),Path('labels.csv'),Path('valid')]"
      ]
     },
     "execution_count": 4,
     "metadata": {},
     "output_type": "execute_result"
    }
   ],
   "source": [
    "# Inspecting contents of path as a list\n",
    "# Structure includes training and label data, as well as a predefined validation dataset\n",
    "\n",
    "path.ls()"
   ]
  },
  {
   "cell_type": "code",
   "execution_count": 5,
   "metadata": {},
   "outputs": [
    {
     "data": {
      "text/plain": [
       "(#2) [Path('train/7'),Path('train/3')]"
      ]
     },
     "execution_count": 5,
     "metadata": {},
     "output_type": "execute_result"
    }
   ],
   "source": [
    "# Further inspection shows that the train dataset has a folder of 3s and a folder of 7s\n",
    "\n",
    "(path/'train').ls()"
   ]
  },
  {
   "cell_type": "code",
   "execution_count": 6,
   "metadata": {},
   "outputs": [
    {
     "data": {
      "text/plain": [
       "(#6131) [Path('train/3/10.png'),Path('train/3/10000.png'),Path('train/3/10011.png'),Path('train/3/10031.png'),Path('train/3/10034.png'),Path('train/3/10042.png'),Path('train/3/10052.png'),Path('train/3/1007.png'),Path('train/3/10074.png'),Path('train/3/10091.png')...]"
      ]
     },
     "execution_count": 6,
     "metadata": {},
     "output_type": "execute_result"
    }
   ],
   "source": [
    "# Assign the folder contents to variables as lists and sort them\n",
    "\n",
    "threes = (path/'train'/'3').ls().sorted()\n",
    "sevens = (path/'train'/'7').ls().sorted()\n",
    "threes"
   ]
  },
  {
   "cell_type": "code",
   "execution_count": 133,
   "metadata": {},
   "outputs": [
    {
     "data": {
      "image/png": "[encoded data removed]",
      "text/plain": [
       "<PIL.PngImagePlugin.PngImageFile image mode=L size=28x28 at 0x7FC42B201F10>"
      ]
     },
     "execution_count": 133,
     "metadata": {},
     "output_type": "execute_result"
    }
   ],
   "source": [
    "# Checking one\n",
    "# The Image class used is from pythons Imaging Library (PIL)\n",
    "\n",
    "im3_path = threes[3]\n",
    "im3 = Image.open(im3_path)\n",
    "im3"
   ]
  },
  {
   "cell_type": "code",
   "execution_count": 8,
   "metadata": {},
   "outputs": [
    {
     "data": {
      "text/plain": [
       "array([[  0,   0,   0,   0,   0,   0],\n",
       "       [  0,   0,   0,   0,   0,  29],\n",
       "       [  0,   0,   0,  48, 166, 224],\n",
       "       [  0,  93, 244, 249, 253, 187],\n",
       "       [  0, 107, 253, 253, 230,  48],\n",
       "       [  0,   3,  20,  20,  15,   0]], dtype=uint8)"
      ]
     },
     "execution_count": 8,
     "metadata": {},
     "output_type": "execute_result"
    }
   ],
   "source": [
    "# We can view the image numerically as an array\n",
    "\n",
    "array(im3)[4:10,4:10]"
   ]
  },
  {
   "cell_type": "code",
   "execution_count": 9,
   "metadata": {},
   "outputs": [
    {
     "data": {
      "text/plain": [
       "tensor([[  0,   0,   0,   0,   0,   0],\n",
       "        [  0,   0,   0,   0,   0,  29],\n",
       "        [  0,   0,   0,  48, 166, 224],\n",
       "        [  0,  93, 244, 249, 253, 187],\n",
       "        [  0, 107, 253, 253, 230,  48],\n",
       "        [  0,   3,  20,  20,  15,   0]], dtype=torch.uint8)"
      ]
     },
     "execution_count": 9,
     "metadata": {},
     "output_type": "execute_result"
    }
   ],
   "source": [
    "# Or as a tensor\n",
    "\n",
    "tensor(im3)[4:10,4:10]"
   ]
  },
  {
   "cell_type": "code",
   "execution_count": 11,
   "metadata": {},
   "outputs": [
    {
     "data": {
      "text/html": [
       "<div>\n",
       "<style scoped>\n",
       "    .dataframe tbody tr th:only-of-type {\n",
       "        vertical-align: middle;\n",
       "    }\n",
       "\n",
       "    .dataframe tbody tr th {\n",
       "        vertical-align: top;\n",
       "    }\n",
       "\n",
       "    .dataframe thead th {\n",
       "        text-align: right;\n",
       "    }\n",
       "</style>\n",
       "<table border=\"1\" class=\"dataframe\">\n",
       "  <thead>\n",
       "    <tr style=\"text-align: right;\">\n",
       "      <th></th>\n",
       "      <th>0</th>\n",
       "      <th>1</th>\n",
       "      <th>2</th>\n",
       "      <th>3</th>\n",
       "      <th>4</th>\n",
       "      <th>5</th>\n",
       "      <th>6</th>\n",
       "      <th>7</th>\n",
       "      <th>8</th>\n",
       "      <th>9</th>\n",
       "      <th>10</th>\n",
       "      <th>11</th>\n",
       "      <th>12</th>\n",
       "      <th>13</th>\n",
       "      <th>14</th>\n",
       "      <th>15</th>\n",
       "      <th>16</th>\n",
       "      <th>17</th>\n",
       "    </tr>\n",
       "  </thead>\n",
       "  <tbody>\n",
       "    <tr>\n",
       "      <th>0</th>\n",
       "      <td>0</td>\n",
       "      <td>0</td>\n",
       "      <td>0</td>\n",
       "      <td>0</td>\n",
       "      <td>0</td>\n",
       "      <td>0</td>\n",
       "      <td>0</td>\n",
       "      <td>0</td>\n",
       "      <td>0</td>\n",
       "      <td>0</td>\n",
       "      <td>0</td>\n",
       "      <td>0</td>\n",
       "      <td>0</td>\n",
       "      <td>0</td>\n",
       "      <td>0</td>\n",
       "      <td>0</td>\n",
       "      <td>0</td>\n",
       "      <td>0</td>\n",
       "    </tr>\n",
       "    <tr>\n",
       "      <th>1</th>\n",
       "      <td>0</td>\n",
       "      <td>0</td>\n",
       "      <td>0</td>\n",
       "      <td>0</td>\n",
       "      <td>0</td>\n",
       "      <td>29</td>\n",
       "      <td>150</td>\n",
       "      <td>195</td>\n",
       "      <td>254</td>\n",
       "      <td>255</td>\n",
       "      <td>254</td>\n",
       "      <td>176</td>\n",
       "      <td>193</td>\n",
       "      <td>150</td>\n",
       "      <td>96</td>\n",
       "      <td>0</td>\n",
       "      <td>0</td>\n",
       "      <td>0</td>\n",
       "    </tr>\n",
       "    <tr>\n",
       "      <th>2</th>\n",
       "      <td>0</td>\n",
       "      <td>0</td>\n",
       "      <td>0</td>\n",
       "      <td>48</td>\n",
       "      <td>166</td>\n",
       "      <td>224</td>\n",
       "      <td>253</td>\n",
       "      <td>253</td>\n",
       "      <td>234</td>\n",
       "      <td>196</td>\n",
       "      <td>253</td>\n",
       "      <td>253</td>\n",
       "      <td>253</td>\n",
       "      <td>253</td>\n",
       "      <td>233</td>\n",
       "      <td>0</td>\n",
       "      <td>0</td>\n",
       "      <td>0</td>\n",
       "    </tr>\n",
       "    <tr>\n",
       "      <th>3</th>\n",
       "      <td>0</td>\n",
       "      <td>93</td>\n",
       "      <td>244</td>\n",
       "      <td>249</td>\n",
       "      <td>253</td>\n",
       "      <td>187</td>\n",
       "      <td>46</td>\n",
       "      <td>10</td>\n",
       "      <td>8</td>\n",
       "      <td>4</td>\n",
       "      <td>10</td>\n",
       "      <td>194</td>\n",
       "      <td>253</td>\n",
       "      <td>253</td>\n",
       "      <td>233</td>\n",
       "      <td>0</td>\n",
       "      <td>0</td>\n",
       "      <td>0</td>\n",
       "    </tr>\n",
       "    <tr>\n",
       "      <th>4</th>\n",
       "      <td>0</td>\n",
       "      <td>107</td>\n",
       "      <td>253</td>\n",
       "      <td>253</td>\n",
       "      <td>230</td>\n",
       "      <td>48</td>\n",
       "      <td>0</td>\n",
       "      <td>0</td>\n",
       "      <td>0</td>\n",
       "      <td>0</td>\n",
       "      <td>0</td>\n",
       "      <td>192</td>\n",
       "      <td>253</td>\n",
       "      <td>253</td>\n",
       "      <td>156</td>\n",
       "      <td>0</td>\n",
       "      <td>0</td>\n",
       "      <td>0</td>\n",
       "    </tr>\n",
       "    <tr>\n",
       "      <th>5</th>\n",
       "      <td>0</td>\n",
       "      <td>3</td>\n",
       "      <td>20</td>\n",
       "      <td>20</td>\n",
       "      <td>15</td>\n",
       "      <td>0</td>\n",
       "      <td>0</td>\n",
       "      <td>0</td>\n",
       "      <td>0</td>\n",
       "      <td>0</td>\n",
       "      <td>43</td>\n",
       "      <td>224</td>\n",
       "      <td>253</td>\n",
       "      <td>245</td>\n",
       "      <td>74</td>\n",
       "      <td>0</td>\n",
       "      <td>0</td>\n",
       "      <td>0</td>\n",
       "    </tr>\n",
       "    <tr>\n",
       "      <th>6</th>\n",
       "      <td>0</td>\n",
       "      <td>0</td>\n",
       "      <td>0</td>\n",
       "      <td>0</td>\n",
       "      <td>0</td>\n",
       "      <td>0</td>\n",
       "      <td>0</td>\n",
       "      <td>0</td>\n",
       "      <td>0</td>\n",
       "      <td>0</td>\n",
       "      <td>249</td>\n",
       "      <td>253</td>\n",
       "      <td>245</td>\n",
       "      <td>126</td>\n",
       "      <td>0</td>\n",
       "      <td>0</td>\n",
       "      <td>0</td>\n",
       "      <td>0</td>\n",
       "    </tr>\n",
       "    <tr>\n",
       "      <th>7</th>\n",
       "      <td>0</td>\n",
       "      <td>0</td>\n",
       "      <td>0</td>\n",
       "      <td>0</td>\n",
       "      <td>0</td>\n",
       "      <td>0</td>\n",
       "      <td>0</td>\n",
       "      <td>14</td>\n",
       "      <td>101</td>\n",
       "      <td>223</td>\n",
       "      <td>253</td>\n",
       "      <td>248</td>\n",
       "      <td>124</td>\n",
       "      <td>0</td>\n",
       "      <td>0</td>\n",
       "      <td>0</td>\n",
       "      <td>0</td>\n",
       "      <td>0</td>\n",
       "    </tr>\n",
       "    <tr>\n",
       "      <th>8</th>\n",
       "      <td>0</td>\n",
       "      <td>0</td>\n",
       "      <td>0</td>\n",
       "      <td>0</td>\n",
       "      <td>0</td>\n",
       "      <td>11</td>\n",
       "      <td>166</td>\n",
       "      <td>239</td>\n",
       "      <td>253</td>\n",
       "      <td>253</td>\n",
       "      <td>253</td>\n",
       "      <td>187</td>\n",
       "      <td>30</td>\n",
       "      <td>0</td>\n",
       "      <td>0</td>\n",
       "      <td>0</td>\n",
       "      <td>0</td>\n",
       "      <td>0</td>\n",
       "    </tr>\n",
       "    <tr>\n",
       "      <th>9</th>\n",
       "      <td>0</td>\n",
       "      <td>0</td>\n",
       "      <td>0</td>\n",
       "      <td>0</td>\n",
       "      <td>0</td>\n",
       "      <td>16</td>\n",
       "      <td>248</td>\n",
       "      <td>250</td>\n",
       "      <td>253</td>\n",
       "      <td>253</td>\n",
       "      <td>253</td>\n",
       "      <td>253</td>\n",
       "      <td>232</td>\n",
       "      <td>213</td>\n",
       "      <td>111</td>\n",
       "      <td>2</td>\n",
       "      <td>0</td>\n",
       "      <td>0</td>\n",
       "    </tr>\n",
       "    <tr>\n",
       "      <th>10</th>\n",
       "      <td>0</td>\n",
       "      <td>0</td>\n",
       "      <td>0</td>\n",
       "      <td>0</td>\n",
       "      <td>0</td>\n",
       "      <td>0</td>\n",
       "      <td>0</td>\n",
       "      <td>43</td>\n",
       "      <td>98</td>\n",
       "      <td>98</td>\n",
       "      <td>208</td>\n",
       "      <td>253</td>\n",
       "      <td>253</td>\n",
       "      <td>253</td>\n",
       "      <td>253</td>\n",
       "      <td>187</td>\n",
       "      <td>22</td>\n",
       "      <td>0</td>\n",
       "    </tr>\n",
       "  </tbody>\n",
       "</table>\n",
       "</div>"
      ],
      "text/plain": [
       "    0    1    2    3    4    5    6    7    8    9    10   11   12   13   14  \\\n",
       "0    0    0    0    0    0    0    0    0    0    0    0    0    0    0    0   \n",
       "1    0    0    0    0    0   29  150  195  254  255  254  176  193  150   96   \n",
       "2    0    0    0   48  166  224  253  253  234  196  253  253  253  253  233   \n",
       "3    0   93  244  249  253  187   46   10    8    4   10  194  253  253  233   \n",
       "4    0  107  253  253  230   48    0    0    0    0    0  192  253  253  156   \n",
       "5    0    3   20   20   15    0    0    0    0    0   43  224  253  245   74   \n",
       "6    0    0    0    0    0    0    0    0    0    0  249  253  245  126    0   \n",
       "7    0    0    0    0    0    0    0   14  101  223  253  248  124    0    0   \n",
       "8    0    0    0    0    0   11  166  239  253  253  253  187   30    0    0   \n",
       "9    0    0    0    0    0   16  248  250  253  253  253  253  232  213  111   \n",
       "10   0    0    0    0    0    0    0   43   98   98  208  253  253  253  253   \n",
       "\n",
       "     15  16  17  \n",
       "0     0   0   0  \n",
       "1     0   0   0  \n",
       "2     0   0   0  \n",
       "3     0   0   0  \n",
       "4     0   0   0  \n",
       "5     0   0   0  \n",
       "6     0   0   0  \n",
       "7     0   0   0  \n",
       "8     0   0   0  \n",
       "9     2   0   0  \n",
       "10  187  22   0  "
      ]
     },
     "execution_count": 11,
     "metadata": {},
     "output_type": "execute_result"
    }
   ],
   "source": [
    "#checking an example as a dataframe\n",
    "\n",
    "im3_t = tensor(im3)\n",
    "df = pd.DataFrame(im3_t[4:15,4:22])\n",
    "df"
   ]
  },
  {
   "cell_type": "code",
   "execution_count": 13,
   "metadata": {},
   "outputs": [
    {
     "data": {
      "text/html": [
       "<style  type=\"text/css\" >\n",
       "#T_587ff630_4dfc_11ec_bce2_d6852a95bf2drow0_col0,#T_587ff630_4dfc_11ec_bce2_d6852a95bf2drow0_col1,#T_587ff630_4dfc_11ec_bce2_d6852a95bf2drow0_col2,#T_587ff630_4dfc_11ec_bce2_d6852a95bf2drow0_col3,#T_587ff630_4dfc_11ec_bce2_d6852a95bf2drow0_col4,#T_587ff630_4dfc_11ec_bce2_d6852a95bf2drow0_col5,#T_587ff630_4dfc_11ec_bce2_d6852a95bf2drow0_col6,#T_587ff630_4dfc_11ec_bce2_d6852a95bf2drow0_col7,#T_587ff630_4dfc_11ec_bce2_d6852a95bf2drow0_col8,#T_587ff630_4dfc_11ec_bce2_d6852a95bf2drow0_col9,#T_587ff630_4dfc_11ec_bce2_d6852a95bf2drow0_col10,#T_587ff630_4dfc_11ec_bce2_d6852a95bf2drow0_col11,#T_587ff630_4dfc_11ec_bce2_d6852a95bf2drow0_col12,#T_587ff630_4dfc_11ec_bce2_d6852a95bf2drow0_col13,#T_587ff630_4dfc_11ec_bce2_d6852a95bf2drow0_col14,#T_587ff630_4dfc_11ec_bce2_d6852a95bf2drow0_col15,#T_587ff630_4dfc_11ec_bce2_d6852a95bf2drow0_col16,#T_587ff630_4dfc_11ec_bce2_d6852a95bf2drow0_col17,#T_587ff630_4dfc_11ec_bce2_d6852a95bf2drow1_col0,#T_587ff630_4dfc_11ec_bce2_d6852a95bf2drow1_col1,#T_587ff630_4dfc_11ec_bce2_d6852a95bf2drow1_col2,#T_587ff630_4dfc_11ec_bce2_d6852a95bf2drow1_col3,#T_587ff630_4dfc_11ec_bce2_d6852a95bf2drow1_col4,#T_587ff630_4dfc_11ec_bce2_d6852a95bf2drow1_col15,#T_587ff630_4dfc_11ec_bce2_d6852a95bf2drow1_col16,#T_587ff630_4dfc_11ec_bce2_d6852a95bf2drow1_col17,#T_587ff630_4dfc_11ec_bce2_d6852a95bf2drow2_col0,#T_587ff630_4dfc_11ec_bce2_d6852a95bf2drow2_col1,#T_587ff630_4dfc_11ec_bce2_d6852a95bf2drow2_col2,#T_587ff630_4dfc_11ec_bce2_d6852a95bf2drow2_col15,#T_587ff630_4dfc_11ec_bce2_d6852a95bf2drow2_col16,#T_587ff630_4dfc_11ec_bce2_d6852a95bf2drow2_col17,#T_587ff630_4dfc_11ec_bce2_d6852a95bf2drow3_col0,#T_587ff630_4dfc_11ec_bce2_d6852a95bf2drow3_col15,#T_587ff630_4dfc_11ec_bce2_d6852a95bf2drow3_col16,#T_587ff630_4dfc_11ec_bce2_d6852a95bf2drow3_col17,#T_587ff630_4dfc_11ec_bce2_d6852a95bf2drow4_col0,#T_587ff630_4dfc_11ec_bce2_d6852a95bf2drow4_col6,#T_587ff630_4dfc_11ec_bce2_d6852a95bf2drow4_col7,#T_587ff630_4dfc_11ec_bce2_d6852a95bf2drow4_col8,#T_587ff630_4dfc_11ec_bce2_d6852a95bf2drow4_col9,#T_587ff630_4dfc_11ec_bce2_d6852a95bf2drow4_col10,#T_587ff630_4dfc_11ec_bce2_d6852a95bf2drow4_col15,#T_587ff630_4dfc_11ec_bce2_d6852a95bf2drow4_col16,#T_587ff630_4dfc_11ec_bce2_d6852a95bf2drow4_col17,#T_587ff630_4dfc_11ec_bce2_d6852a95bf2drow5_col0,#T_587ff630_4dfc_11ec_bce2_d6852a95bf2drow5_col5,#T_587ff630_4dfc_11ec_bce2_d6852a95bf2drow5_col6,#T_587ff630_4dfc_11ec_bce2_d6852a95bf2drow5_col7,#T_587ff630_4dfc_11ec_bce2_d6852a95bf2drow5_col8,#T_587ff630_4dfc_11ec_bce2_d6852a95bf2drow5_col9,#T_587ff630_4dfc_11ec_bce2_d6852a95bf2drow5_col15,#T_587ff630_4dfc_11ec_bce2_d6852a95bf2drow5_col16,#T_587ff630_4dfc_11ec_bce2_d6852a95bf2drow5_col17,#T_587ff630_4dfc_11ec_bce2_d6852a95bf2drow6_col0,#T_587ff630_4dfc_11ec_bce2_d6852a95bf2drow6_col1,#T_587ff630_4dfc_11ec_bce2_d6852a95bf2drow6_col2,#T_587ff630_4dfc_11ec_bce2_d6852a95bf2drow6_col3,#T_587ff630_4dfc_11ec_bce2_d6852a95bf2drow6_col4,#T_587ff630_4dfc_11ec_bce2_d6852a95bf2drow6_col5,#T_587ff630_4dfc_11ec_bce2_d6852a95bf2drow6_col6,#T_587ff630_4dfc_11ec_bce2_d6852a95bf2drow6_col7,#T_587ff630_4dfc_11ec_bce2_d6852a95bf2drow6_col8,#T_587ff630_4dfc_11ec_bce2_d6852a95bf2drow6_col9,#T_587ff630_4dfc_11ec_bce2_d6852a95bf2drow6_col14,#T_587ff630_4dfc_11ec_bce2_d6852a95bf2drow6_col15,#T_587ff630_4dfc_11ec_bce2_d6852a95bf2drow6_col16,#T_587ff630_4dfc_11ec_bce2_d6852a95bf2drow6_col17,#T_587ff630_4dfc_11ec_bce2_d6852a95bf2drow7_col0,#T_587ff630_4dfc_11ec_bce2_d6852a95bf2drow7_col1,#T_587ff630_4dfc_11ec_bce2_d6852a95bf2drow7_col2,#T_587ff630_4dfc_11ec_bce2_d6852a95bf2drow7_col3,#T_587ff630_4dfc_11ec_bce2_d6852a95bf2drow7_col4,#T_587ff630_4dfc_11ec_bce2_d6852a95bf2drow7_col5,#T_587ff630_4dfc_11ec_bce2_d6852a95bf2drow7_col6,#T_587ff630_4dfc_11ec_bce2_d6852a95bf2drow7_col13,#T_587ff630_4dfc_11ec_bce2_d6852a95bf2drow7_col14,#T_587ff630_4dfc_11ec_bce2_d6852a95bf2drow7_col15,#T_587ff630_4dfc_11ec_bce2_d6852a95bf2drow7_col16,#T_587ff630_4dfc_11ec_bce2_d6852a95bf2drow7_col17,#T_587ff630_4dfc_11ec_bce2_d6852a95bf2drow8_col0,#T_587ff630_4dfc_11ec_bce2_d6852a95bf2drow8_col1,#T_587ff630_4dfc_11ec_bce2_d6852a95bf2drow8_col2,#T_587ff630_4dfc_11ec_bce2_d6852a95bf2drow8_col3,#T_587ff630_4dfc_11ec_bce2_d6852a95bf2drow8_col4,#T_587ff630_4dfc_11ec_bce2_d6852a95bf2drow8_col13,#T_587ff630_4dfc_11ec_bce2_d6852a95bf2drow8_col14,#T_587ff630_4dfc_11ec_bce2_d6852a95bf2drow8_col15,#T_587ff630_4dfc_11ec_bce2_d6852a95bf2drow8_col16,#T_587ff630_4dfc_11ec_bce2_d6852a95bf2drow8_col17,#T_587ff630_4dfc_11ec_bce2_d6852a95bf2drow9_col0,#T_587ff630_4dfc_11ec_bce2_d6852a95bf2drow9_col1,#T_587ff630_4dfc_11ec_bce2_d6852a95bf2drow9_col2,#T_587ff630_4dfc_11ec_bce2_d6852a95bf2drow9_col3,#T_587ff630_4dfc_11ec_bce2_d6852a95bf2drow9_col4,#T_587ff630_4dfc_11ec_bce2_d6852a95bf2drow9_col16,#T_587ff630_4dfc_11ec_bce2_d6852a95bf2drow9_col17,#T_587ff630_4dfc_11ec_bce2_d6852a95bf2drow10_col0,#T_587ff630_4dfc_11ec_bce2_d6852a95bf2drow10_col1,#T_587ff630_4dfc_11ec_bce2_d6852a95bf2drow10_col2,#T_587ff630_4dfc_11ec_bce2_d6852a95bf2drow10_col3,#T_587ff630_4dfc_11ec_bce2_d6852a95bf2drow10_col4,#T_587ff630_4dfc_11ec_bce2_d6852a95bf2drow10_col5,#T_587ff630_4dfc_11ec_bce2_d6852a95bf2drow10_col6,#T_587ff630_4dfc_11ec_bce2_d6852a95bf2drow10_col17{\n",
       "            font-size:  6pt;\n",
       "            background-color:  #ffffff;\n",
       "            color:  #000000;\n",
       "        }#T_587ff630_4dfc_11ec_bce2_d6852a95bf2drow1_col5{\n",
       "            font-size:  6pt;\n",
       "            background-color:  #efefef;\n",
       "            color:  #000000;\n",
       "        }#T_587ff630_4dfc_11ec_bce2_d6852a95bf2drow1_col6,#T_587ff630_4dfc_11ec_bce2_d6852a95bf2drow1_col13{\n",
       "            font-size:  6pt;\n",
       "            background-color:  #7c7c7c;\n",
       "            color:  #000000;\n",
       "        }#T_587ff630_4dfc_11ec_bce2_d6852a95bf2drow1_col7{\n",
       "            font-size:  6pt;\n",
       "            background-color:  #4a4a4a;\n",
       "            color:  #f1f1f1;\n",
       "        }#T_587ff630_4dfc_11ec_bce2_d6852a95bf2drow1_col8,#T_587ff630_4dfc_11ec_bce2_d6852a95bf2drow1_col9,#T_587ff630_4dfc_11ec_bce2_d6852a95bf2drow1_col10,#T_587ff630_4dfc_11ec_bce2_d6852a95bf2drow2_col5,#T_587ff630_4dfc_11ec_bce2_d6852a95bf2drow2_col6,#T_587ff630_4dfc_11ec_bce2_d6852a95bf2drow2_col7,#T_587ff630_4dfc_11ec_bce2_d6852a95bf2drow2_col11,#T_587ff630_4dfc_11ec_bce2_d6852a95bf2drow2_col12,#T_587ff630_4dfc_11ec_bce2_d6852a95bf2drow2_col13,#T_587ff630_4dfc_11ec_bce2_d6852a95bf2drow3_col4,#T_587ff630_4dfc_11ec_bce2_d6852a95bf2drow3_col12,#T_587ff630_4dfc_11ec_bce2_d6852a95bf2drow3_col13,#T_587ff630_4dfc_11ec_bce2_d6852a95bf2drow4_col1,#T_587ff630_4dfc_11ec_bce2_d6852a95bf2drow4_col2,#T_587ff630_4dfc_11ec_bce2_d6852a95bf2drow4_col3,#T_587ff630_4dfc_11ec_bce2_d6852a95bf2drow4_col12,#T_587ff630_4dfc_11ec_bce2_d6852a95bf2drow4_col13,#T_587ff630_4dfc_11ec_bce2_d6852a95bf2drow5_col12,#T_587ff630_4dfc_11ec_bce2_d6852a95bf2drow6_col11,#T_587ff630_4dfc_11ec_bce2_d6852a95bf2drow9_col11,#T_587ff630_4dfc_11ec_bce2_d6852a95bf2drow10_col11,#T_587ff630_4dfc_11ec_bce2_d6852a95bf2drow10_col12,#T_587ff630_4dfc_11ec_bce2_d6852a95bf2drow10_col13,#T_587ff630_4dfc_11ec_bce2_d6852a95bf2drow10_col14,#T_587ff630_4dfc_11ec_bce2_d6852a95bf2drow10_col15,#T_587ff630_4dfc_11ec_bce2_d6852a95bf2drow10_col16{\n",
       "            font-size:  6pt;\n",
       "            background-color:  #000000;\n",
       "            color:  #f1f1f1;\n",
       "        }#T_587ff630_4dfc_11ec_bce2_d6852a95bf2drow1_col11{\n",
       "            font-size:  6pt;\n",
       "            background-color:  #606060;\n",
       "            color:  #f1f1f1;\n",
       "        }#T_587ff630_4dfc_11ec_bce2_d6852a95bf2drow1_col12{\n",
       "            font-size:  6pt;\n",
       "            background-color:  #4d4d4d;\n",
       "            color:  #f1f1f1;\n",
       "        }#T_587ff630_4dfc_11ec_bce2_d6852a95bf2drow1_col14{\n",
       "            font-size:  6pt;\n",
       "            background-color:  #bbbbbb;\n",
       "            color:  #000000;\n",
       "        }#T_587ff630_4dfc_11ec_bce2_d6852a95bf2drow2_col3{\n",
       "            font-size:  6pt;\n",
       "            background-color:  #e4e4e4;\n",
       "            color:  #000000;\n",
       "        }#T_587ff630_4dfc_11ec_bce2_d6852a95bf2drow2_col4,#T_587ff630_4dfc_11ec_bce2_d6852a95bf2drow8_col6{\n",
       "            font-size:  6pt;\n",
       "            background-color:  #6b6b6b;\n",
       "            color:  #000000;\n",
       "        }#T_587ff630_4dfc_11ec_bce2_d6852a95bf2drow2_col8,#T_587ff630_4dfc_11ec_bce2_d6852a95bf2drow2_col14,#T_587ff630_4dfc_11ec_bce2_d6852a95bf2drow3_col14{\n",
       "            font-size:  6pt;\n",
       "            background-color:  #171717;\n",
       "            color:  #f1f1f1;\n",
       "        }#T_587ff630_4dfc_11ec_bce2_d6852a95bf2drow2_col9,#T_587ff630_4dfc_11ec_bce2_d6852a95bf2drow3_col11{\n",
       "            font-size:  6pt;\n",
       "            background-color:  #4b4b4b;\n",
       "            color:  #f1f1f1;\n",
       "        }#T_587ff630_4dfc_11ec_bce2_d6852a95bf2drow2_col10,#T_587ff630_4dfc_11ec_bce2_d6852a95bf2drow7_col10,#T_587ff630_4dfc_11ec_bce2_d6852a95bf2drow8_col8,#T_587ff630_4dfc_11ec_bce2_d6852a95bf2drow8_col10,#T_587ff630_4dfc_11ec_bce2_d6852a95bf2drow9_col8,#T_587ff630_4dfc_11ec_bce2_d6852a95bf2drow9_col10{\n",
       "            font-size:  6pt;\n",
       "            background-color:  #010101;\n",
       "            color:  #f1f1f1;\n",
       "        }#T_587ff630_4dfc_11ec_bce2_d6852a95bf2drow3_col1{\n",
       "            font-size:  6pt;\n",
       "            background-color:  #272727;\n",
       "            color:  #f1f1f1;\n",
       "        }#T_587ff630_4dfc_11ec_bce2_d6852a95bf2drow3_col2{\n",
       "            font-size:  6pt;\n",
       "            background-color:  #0a0a0a;\n",
       "            color:  #f1f1f1;\n",
       "        }#T_587ff630_4dfc_11ec_bce2_d6852a95bf2drow3_col3{\n",
       "            font-size:  6pt;\n",
       "            background-color:  #050505;\n",
       "            color:  #f1f1f1;\n",
       "        }#T_587ff630_4dfc_11ec_bce2_d6852a95bf2drow3_col5{\n",
       "            font-size:  6pt;\n",
       "            background-color:  #333333;\n",
       "            color:  #f1f1f1;\n",
       "        }#T_587ff630_4dfc_11ec_bce2_d6852a95bf2drow3_col6{\n",
       "            font-size:  6pt;\n",
       "            background-color:  #e6e6e6;\n",
       "            color:  #000000;\n",
       "        }#T_587ff630_4dfc_11ec_bce2_d6852a95bf2drow3_col7,#T_587ff630_4dfc_11ec_bce2_d6852a95bf2drow3_col10{\n",
       "            font-size:  6pt;\n",
       "            background-color:  #fafafa;\n",
       "            color:  #000000;\n",
       "        }#T_587ff630_4dfc_11ec_bce2_d6852a95bf2drow3_col8{\n",
       "            font-size:  6pt;\n",
       "            background-color:  #fbfbfb;\n",
       "            color:  #000000;\n",
       "        }#T_587ff630_4dfc_11ec_bce2_d6852a95bf2drow3_col9{\n",
       "            font-size:  6pt;\n",
       "            background-color:  #fdfdfd;\n",
       "            color:  #000000;\n",
       "        }#T_587ff630_4dfc_11ec_bce2_d6852a95bf2drow4_col4{\n",
       "            font-size:  6pt;\n",
       "            background-color:  #1b1b1b;\n",
       "            color:  #f1f1f1;\n",
       "        }#T_587ff630_4dfc_11ec_bce2_d6852a95bf2drow4_col5{\n",
       "            font-size:  6pt;\n",
       "            background-color:  #e0e0e0;\n",
       "            color:  #000000;\n",
       "        }#T_587ff630_4dfc_11ec_bce2_d6852a95bf2drow4_col11{\n",
       "            font-size:  6pt;\n",
       "            background-color:  #4e4e4e;\n",
       "            color:  #f1f1f1;\n",
       "        }#T_587ff630_4dfc_11ec_bce2_d6852a95bf2drow4_col14{\n",
       "            font-size:  6pt;\n",
       "            background-color:  #767676;\n",
       "            color:  #000000;\n",
       "        }#T_587ff630_4dfc_11ec_bce2_d6852a95bf2drow5_col1{\n",
       "            font-size:  6pt;\n",
       "            background-color:  #fcfcfc;\n",
       "            color:  #000000;\n",
       "        }#T_587ff630_4dfc_11ec_bce2_d6852a95bf2drow5_col2,#T_587ff630_4dfc_11ec_bce2_d6852a95bf2drow5_col3{\n",
       "            font-size:  6pt;\n",
       "            background-color:  #f6f6f6;\n",
       "            color:  #000000;\n",
       "        }#T_587ff630_4dfc_11ec_bce2_d6852a95bf2drow5_col4,#T_587ff630_4dfc_11ec_bce2_d6852a95bf2drow7_col7{\n",
       "            font-size:  6pt;\n",
       "            background-color:  #f8f8f8;\n",
       "            color:  #000000;\n",
       "        }#T_587ff630_4dfc_11ec_bce2_d6852a95bf2drow5_col10,#T_587ff630_4dfc_11ec_bce2_d6852a95bf2drow10_col7{\n",
       "            font-size:  6pt;\n",
       "            background-color:  #e8e8e8;\n",
       "            color:  #000000;\n",
       "        }#T_587ff630_4dfc_11ec_bce2_d6852a95bf2drow5_col11{\n",
       "            font-size:  6pt;\n",
       "            background-color:  #222222;\n",
       "            color:  #f1f1f1;\n",
       "        }#T_587ff630_4dfc_11ec_bce2_d6852a95bf2drow5_col13,#T_587ff630_4dfc_11ec_bce2_d6852a95bf2drow6_col12{\n",
       "            font-size:  6pt;\n",
       "            background-color:  #090909;\n",
       "            color:  #f1f1f1;\n",
       "        }#T_587ff630_4dfc_11ec_bce2_d6852a95bf2drow5_col14{\n",
       "            font-size:  6pt;\n",
       "            background-color:  #d0d0d0;\n",
       "            color:  #000000;\n",
       "        }#T_587ff630_4dfc_11ec_bce2_d6852a95bf2drow6_col10,#T_587ff630_4dfc_11ec_bce2_d6852a95bf2drow7_col11,#T_587ff630_4dfc_11ec_bce2_d6852a95bf2drow9_col6{\n",
       "            font-size:  6pt;\n",
       "            background-color:  #060606;\n",
       "            color:  #f1f1f1;\n",
       "        }#T_587ff630_4dfc_11ec_bce2_d6852a95bf2drow6_col13{\n",
       "            font-size:  6pt;\n",
       "            background-color:  #979797;\n",
       "            color:  #000000;\n",
       "        }#T_587ff630_4dfc_11ec_bce2_d6852a95bf2drow7_col8{\n",
       "            font-size:  6pt;\n",
       "            background-color:  #b6b6b6;\n",
       "            color:  #000000;\n",
       "        }#T_587ff630_4dfc_11ec_bce2_d6852a95bf2drow7_col9{\n",
       "            font-size:  6pt;\n",
       "            background-color:  #252525;\n",
       "            color:  #f1f1f1;\n",
       "        }#T_587ff630_4dfc_11ec_bce2_d6852a95bf2drow7_col12{\n",
       "            font-size:  6pt;\n",
       "            background-color:  #999999;\n",
       "            color:  #000000;\n",
       "        }#T_587ff630_4dfc_11ec_bce2_d6852a95bf2drow8_col5{\n",
       "            font-size:  6pt;\n",
       "            background-color:  #f9f9f9;\n",
       "            color:  #000000;\n",
       "        }#T_587ff630_4dfc_11ec_bce2_d6852a95bf2drow8_col7{\n",
       "            font-size:  6pt;\n",
       "            background-color:  #101010;\n",
       "            color:  #f1f1f1;\n",
       "        }#T_587ff630_4dfc_11ec_bce2_d6852a95bf2drow8_col9,#T_587ff630_4dfc_11ec_bce2_d6852a95bf2drow9_col9{\n",
       "            font-size:  6pt;\n",
       "            background-color:  #020202;\n",
       "            color:  #f1f1f1;\n",
       "        }#T_587ff630_4dfc_11ec_bce2_d6852a95bf2drow8_col11{\n",
       "            font-size:  6pt;\n",
       "            background-color:  #545454;\n",
       "            color:  #f1f1f1;\n",
       "        }#T_587ff630_4dfc_11ec_bce2_d6852a95bf2drow8_col12{\n",
       "            font-size:  6pt;\n",
       "            background-color:  #f1f1f1;\n",
       "            color:  #000000;\n",
       "        }#T_587ff630_4dfc_11ec_bce2_d6852a95bf2drow9_col5{\n",
       "            font-size:  6pt;\n",
       "            background-color:  #f7f7f7;\n",
       "            color:  #000000;\n",
       "        }#T_587ff630_4dfc_11ec_bce2_d6852a95bf2drow9_col7{\n",
       "            font-size:  6pt;\n",
       "            background-color:  #030303;\n",
       "            color:  #f1f1f1;\n",
       "        }#T_587ff630_4dfc_11ec_bce2_d6852a95bf2drow9_col12{\n",
       "            font-size:  6pt;\n",
       "            background-color:  #181818;\n",
       "            color:  #f1f1f1;\n",
       "        }#T_587ff630_4dfc_11ec_bce2_d6852a95bf2drow9_col13{\n",
       "            font-size:  6pt;\n",
       "            background-color:  #303030;\n",
       "            color:  #f1f1f1;\n",
       "        }#T_587ff630_4dfc_11ec_bce2_d6852a95bf2drow9_col14{\n",
       "            font-size:  6pt;\n",
       "            background-color:  #a9a9a9;\n",
       "            color:  #000000;\n",
       "        }#T_587ff630_4dfc_11ec_bce2_d6852a95bf2drow9_col15{\n",
       "            font-size:  6pt;\n",
       "            background-color:  #fefefe;\n",
       "            color:  #000000;\n",
       "        }#T_587ff630_4dfc_11ec_bce2_d6852a95bf2drow10_col8,#T_587ff630_4dfc_11ec_bce2_d6852a95bf2drow10_col9{\n",
       "            font-size:  6pt;\n",
       "            background-color:  #bababa;\n",
       "            color:  #000000;\n",
       "        }#T_587ff630_4dfc_11ec_bce2_d6852a95bf2drow10_col10{\n",
       "            font-size:  6pt;\n",
       "            background-color:  #393939;\n",
       "            color:  #f1f1f1;\n",
       "        }</style><table id=\"T_587ff630_4dfc_11ec_bce2_d6852a95bf2d\" ><thead>    <tr>        <th class=\"blank level0\" ></th>        <th class=\"col_heading level0 col0\" >0</th>        <th class=\"col_heading level0 col1\" >1</th>        <th class=\"col_heading level0 col2\" >2</th>        <th class=\"col_heading level0 col3\" >3</th>        <th class=\"col_heading level0 col4\" >4</th>        <th class=\"col_heading level0 col5\" >5</th>        <th class=\"col_heading level0 col6\" >6</th>        <th class=\"col_heading level0 col7\" >7</th>        <th class=\"col_heading level0 col8\" >8</th>        <th class=\"col_heading level0 col9\" >9</th>        <th class=\"col_heading level0 col10\" >10</th>        <th class=\"col_heading level0 col11\" >11</th>        <th class=\"col_heading level0 col12\" >12</th>        <th class=\"col_heading level0 col13\" >13</th>        <th class=\"col_heading level0 col14\" >14</th>        <th class=\"col_heading level0 col15\" >15</th>        <th class=\"col_heading level0 col16\" >16</th>        <th class=\"col_heading level0 col17\" >17</th>    </tr></thead><tbody>\n",
       "                <tr>\n",
       "                        <th id=\"T_587ff630_4dfc_11ec_bce2_d6852a95bf2dlevel0_row0\" class=\"row_heading level0 row0\" >0</th>\n",
       "                        <td id=\"T_587ff630_4dfc_11ec_bce2_d6852a95bf2drow0_col0\" class=\"data row0 col0\" >0</td>\n",
       "                        <td id=\"T_587ff630_4dfc_11ec_bce2_d6852a95bf2drow0_col1\" class=\"data row0 col1\" >0</td>\n",
       "                        <td id=\"T_587ff630_4dfc_11ec_bce2_d6852a95bf2drow0_col2\" class=\"data row0 col2\" >0</td>\n",
       "                        <td id=\"T_587ff630_4dfc_11ec_bce2_d6852a95bf2drow0_col3\" class=\"data row0 col3\" >0</td>\n",
       "                        <td id=\"T_587ff630_4dfc_11ec_bce2_d6852a95bf2drow0_col4\" class=\"data row0 col4\" >0</td>\n",
       "                        <td id=\"T_587ff630_4dfc_11ec_bce2_d6852a95bf2drow0_col5\" class=\"data row0 col5\" >0</td>\n",
       "                        <td id=\"T_587ff630_4dfc_11ec_bce2_d6852a95bf2drow0_col6\" class=\"data row0 col6\" >0</td>\n",
       "                        <td id=\"T_587ff630_4dfc_11ec_bce2_d6852a95bf2drow0_col7\" class=\"data row0 col7\" >0</td>\n",
       "                        <td id=\"T_587ff630_4dfc_11ec_bce2_d6852a95bf2drow0_col8\" class=\"data row0 col8\" >0</td>\n",
       "                        <td id=\"T_587ff630_4dfc_11ec_bce2_d6852a95bf2drow0_col9\" class=\"data row0 col9\" >0</td>\n",
       "                        <td id=\"T_587ff630_4dfc_11ec_bce2_d6852a95bf2drow0_col10\" class=\"data row0 col10\" >0</td>\n",
       "                        <td id=\"T_587ff630_4dfc_11ec_bce2_d6852a95bf2drow0_col11\" class=\"data row0 col11\" >0</td>\n",
       "                        <td id=\"T_587ff630_4dfc_11ec_bce2_d6852a95bf2drow0_col12\" class=\"data row0 col12\" >0</td>\n",
       "                        <td id=\"T_587ff630_4dfc_11ec_bce2_d6852a95bf2drow0_col13\" class=\"data row0 col13\" >0</td>\n",
       "                        <td id=\"T_587ff630_4dfc_11ec_bce2_d6852a95bf2drow0_col14\" class=\"data row0 col14\" >0</td>\n",
       "                        <td id=\"T_587ff630_4dfc_11ec_bce2_d6852a95bf2drow0_col15\" class=\"data row0 col15\" >0</td>\n",
       "                        <td id=\"T_587ff630_4dfc_11ec_bce2_d6852a95bf2drow0_col16\" class=\"data row0 col16\" >0</td>\n",
       "                        <td id=\"T_587ff630_4dfc_11ec_bce2_d6852a95bf2drow0_col17\" class=\"data row0 col17\" >0</td>\n",
       "            </tr>\n",
       "            <tr>\n",
       "                        <th id=\"T_587ff630_4dfc_11ec_bce2_d6852a95bf2dlevel0_row1\" class=\"row_heading level0 row1\" >1</th>\n",
       "                        <td id=\"T_587ff630_4dfc_11ec_bce2_d6852a95bf2drow1_col0\" class=\"data row1 col0\" >0</td>\n",
       "                        <td id=\"T_587ff630_4dfc_11ec_bce2_d6852a95bf2drow1_col1\" class=\"data row1 col1\" >0</td>\n",
       "                        <td id=\"T_587ff630_4dfc_11ec_bce2_d6852a95bf2drow1_col2\" class=\"data row1 col2\" >0</td>\n",
       "                        <td id=\"T_587ff630_4dfc_11ec_bce2_d6852a95bf2drow1_col3\" class=\"data row1 col3\" >0</td>\n",
       "                        <td id=\"T_587ff630_4dfc_11ec_bce2_d6852a95bf2drow1_col4\" class=\"data row1 col4\" >0</td>\n",
       "                        <td id=\"T_587ff630_4dfc_11ec_bce2_d6852a95bf2drow1_col5\" class=\"data row1 col5\" >29</td>\n",
       "                        <td id=\"T_587ff630_4dfc_11ec_bce2_d6852a95bf2drow1_col6\" class=\"data row1 col6\" >150</td>\n",
       "                        <td id=\"T_587ff630_4dfc_11ec_bce2_d6852a95bf2drow1_col7\" class=\"data row1 col7\" >195</td>\n",
       "                        <td id=\"T_587ff630_4dfc_11ec_bce2_d6852a95bf2drow1_col8\" class=\"data row1 col8\" >254</td>\n",
       "                        <td id=\"T_587ff630_4dfc_11ec_bce2_d6852a95bf2drow1_col9\" class=\"data row1 col9\" >255</td>\n",
       "                        <td id=\"T_587ff630_4dfc_11ec_bce2_d6852a95bf2drow1_col10\" class=\"data row1 col10\" >254</td>\n",
       "                        <td id=\"T_587ff630_4dfc_11ec_bce2_d6852a95bf2drow1_col11\" class=\"data row1 col11\" >176</td>\n",
       "                        <td id=\"T_587ff630_4dfc_11ec_bce2_d6852a95bf2drow1_col12\" class=\"data row1 col12\" >193</td>\n",
       "                        <td id=\"T_587ff630_4dfc_11ec_bce2_d6852a95bf2drow1_col13\" class=\"data row1 col13\" >150</td>\n",
       "                        <td id=\"T_587ff630_4dfc_11ec_bce2_d6852a95bf2drow1_col14\" class=\"data row1 col14\" >96</td>\n",
       "                        <td id=\"T_587ff630_4dfc_11ec_bce2_d6852a95bf2drow1_col15\" class=\"data row1 col15\" >0</td>\n",
       "                        <td id=\"T_587ff630_4dfc_11ec_bce2_d6852a95bf2drow1_col16\" class=\"data row1 col16\" >0</td>\n",
       "                        <td id=\"T_587ff630_4dfc_11ec_bce2_d6852a95bf2drow1_col17\" class=\"data row1 col17\" >0</td>\n",
       "            </tr>\n",
       "            <tr>\n",
       "                        <th id=\"T_587ff630_4dfc_11ec_bce2_d6852a95bf2dlevel0_row2\" class=\"row_heading level0 row2\" >2</th>\n",
       "                        <td id=\"T_587ff630_4dfc_11ec_bce2_d6852a95bf2drow2_col0\" class=\"data row2 col0\" >0</td>\n",
       "                        <td id=\"T_587ff630_4dfc_11ec_bce2_d6852a95bf2drow2_col1\" class=\"data row2 col1\" >0</td>\n",
       "                        <td id=\"T_587ff630_4dfc_11ec_bce2_d6852a95bf2drow2_col2\" class=\"data row2 col2\" >0</td>\n",
       "                        <td id=\"T_587ff630_4dfc_11ec_bce2_d6852a95bf2drow2_col3\" class=\"data row2 col3\" >48</td>\n",
       "                        <td id=\"T_587ff630_4dfc_11ec_bce2_d6852a95bf2drow2_col4\" class=\"data row2 col4\" >166</td>\n",
       "                        <td id=\"T_587ff630_4dfc_11ec_bce2_d6852a95bf2drow2_col5\" class=\"data row2 col5\" >224</td>\n",
       "                        <td id=\"T_587ff630_4dfc_11ec_bce2_d6852a95bf2drow2_col6\" class=\"data row2 col6\" >253</td>\n",
       "                        <td id=\"T_587ff630_4dfc_11ec_bce2_d6852a95bf2drow2_col7\" class=\"data row2 col7\" >253</td>\n",
       "                        <td id=\"T_587ff630_4dfc_11ec_bce2_d6852a95bf2drow2_col8\" class=\"data row2 col8\" >234</td>\n",
       "                        <td id=\"T_587ff630_4dfc_11ec_bce2_d6852a95bf2drow2_col9\" class=\"data row2 col9\" >196</td>\n",
       "                        <td id=\"T_587ff630_4dfc_11ec_bce2_d6852a95bf2drow2_col10\" class=\"data row2 col10\" >253</td>\n",
       "                        <td id=\"T_587ff630_4dfc_11ec_bce2_d6852a95bf2drow2_col11\" class=\"data row2 col11\" >253</td>\n",
       "                        <td id=\"T_587ff630_4dfc_11ec_bce2_d6852a95bf2drow2_col12\" class=\"data row2 col12\" >253</td>\n",
       "                        <td id=\"T_587ff630_4dfc_11ec_bce2_d6852a95bf2drow2_col13\" class=\"data row2 col13\" >253</td>\n",
       "                        <td id=\"T_587ff630_4dfc_11ec_bce2_d6852a95bf2drow2_col14\" class=\"data row2 col14\" >233</td>\n",
       "                        <td id=\"T_587ff630_4dfc_11ec_bce2_d6852a95bf2drow2_col15\" class=\"data row2 col15\" >0</td>\n",
       "                        <td id=\"T_587ff630_4dfc_11ec_bce2_d6852a95bf2drow2_col16\" class=\"data row2 col16\" >0</td>\n",
       "                        <td id=\"T_587ff630_4dfc_11ec_bce2_d6852a95bf2drow2_col17\" class=\"data row2 col17\" >0</td>\n",
       "            </tr>\n",
       "            <tr>\n",
       "                        <th id=\"T_587ff630_4dfc_11ec_bce2_d6852a95bf2dlevel0_row3\" class=\"row_heading level0 row3\" >3</th>\n",
       "                        <td id=\"T_587ff630_4dfc_11ec_bce2_d6852a95bf2drow3_col0\" class=\"data row3 col0\" >0</td>\n",
       "                        <td id=\"T_587ff630_4dfc_11ec_bce2_d6852a95bf2drow3_col1\" class=\"data row3 col1\" >93</td>\n",
       "                        <td id=\"T_587ff630_4dfc_11ec_bce2_d6852a95bf2drow3_col2\" class=\"data row3 col2\" >244</td>\n",
       "                        <td id=\"T_587ff630_4dfc_11ec_bce2_d6852a95bf2drow3_col3\" class=\"data row3 col3\" >249</td>\n",
       "                        <td id=\"T_587ff630_4dfc_11ec_bce2_d6852a95bf2drow3_col4\" class=\"data row3 col4\" >253</td>\n",
       "                        <td id=\"T_587ff630_4dfc_11ec_bce2_d6852a95bf2drow3_col5\" class=\"data row3 col5\" >187</td>\n",
       "                        <td id=\"T_587ff630_4dfc_11ec_bce2_d6852a95bf2drow3_col6\" class=\"data row3 col6\" >46</td>\n",
       "                        <td id=\"T_587ff630_4dfc_11ec_bce2_d6852a95bf2drow3_col7\" class=\"data row3 col7\" >10</td>\n",
       "                        <td id=\"T_587ff630_4dfc_11ec_bce2_d6852a95bf2drow3_col8\" class=\"data row3 col8\" >8</td>\n",
       "                        <td id=\"T_587ff630_4dfc_11ec_bce2_d6852a95bf2drow3_col9\" class=\"data row3 col9\" >4</td>\n",
       "                        <td id=\"T_587ff630_4dfc_11ec_bce2_d6852a95bf2drow3_col10\" class=\"data row3 col10\" >10</td>\n",
       "                        <td id=\"T_587ff630_4dfc_11ec_bce2_d6852a95bf2drow3_col11\" class=\"data row3 col11\" >194</td>\n",
       "                        <td id=\"T_587ff630_4dfc_11ec_bce2_d6852a95bf2drow3_col12\" class=\"data row3 col12\" >253</td>\n",
       "                        <td id=\"T_587ff630_4dfc_11ec_bce2_d6852a95bf2drow3_col13\" class=\"data row3 col13\" >253</td>\n",
       "                        <td id=\"T_587ff630_4dfc_11ec_bce2_d6852a95bf2drow3_col14\" class=\"data row3 col14\" >233</td>\n",
       "                        <td id=\"T_587ff630_4dfc_11ec_bce2_d6852a95bf2drow3_col15\" class=\"data row3 col15\" >0</td>\n",
       "                        <td id=\"T_587ff630_4dfc_11ec_bce2_d6852a95bf2drow3_col16\" class=\"data row3 col16\" >0</td>\n",
       "                        <td id=\"T_587ff630_4dfc_11ec_bce2_d6852a95bf2drow3_col17\" class=\"data row3 col17\" >0</td>\n",
       "            </tr>\n",
       "            <tr>\n",
       "                        <th id=\"T_587ff630_4dfc_11ec_bce2_d6852a95bf2dlevel0_row4\" class=\"row_heading level0 row4\" >4</th>\n",
       "                        <td id=\"T_587ff630_4dfc_11ec_bce2_d6852a95bf2drow4_col0\" class=\"data row4 col0\" >0</td>\n",
       "                        <td id=\"T_587ff630_4dfc_11ec_bce2_d6852a95bf2drow4_col1\" class=\"data row4 col1\" >107</td>\n",
       "                        <td id=\"T_587ff630_4dfc_11ec_bce2_d6852a95bf2drow4_col2\" class=\"data row4 col2\" >253</td>\n",
       "                        <td id=\"T_587ff630_4dfc_11ec_bce2_d6852a95bf2drow4_col3\" class=\"data row4 col3\" >253</td>\n",
       "                        <td id=\"T_587ff630_4dfc_11ec_bce2_d6852a95bf2drow4_col4\" class=\"data row4 col4\" >230</td>\n",
       "                        <td id=\"T_587ff630_4dfc_11ec_bce2_d6852a95bf2drow4_col5\" class=\"data row4 col5\" >48</td>\n",
       "                        <td id=\"T_587ff630_4dfc_11ec_bce2_d6852a95bf2drow4_col6\" class=\"data row4 col6\" >0</td>\n",
       "                        <td id=\"T_587ff630_4dfc_11ec_bce2_d6852a95bf2drow4_col7\" class=\"data row4 col7\" >0</td>\n",
       "                        <td id=\"T_587ff630_4dfc_11ec_bce2_d6852a95bf2drow4_col8\" class=\"data row4 col8\" >0</td>\n",
       "                        <td id=\"T_587ff630_4dfc_11ec_bce2_d6852a95bf2drow4_col9\" class=\"data row4 col9\" >0</td>\n",
       "                        <td id=\"T_587ff630_4dfc_11ec_bce2_d6852a95bf2drow4_col10\" class=\"data row4 col10\" >0</td>\n",
       "                        <td id=\"T_587ff630_4dfc_11ec_bce2_d6852a95bf2drow4_col11\" class=\"data row4 col11\" >192</td>\n",
       "                        <td id=\"T_587ff630_4dfc_11ec_bce2_d6852a95bf2drow4_col12\" class=\"data row4 col12\" >253</td>\n",
       "                        <td id=\"T_587ff630_4dfc_11ec_bce2_d6852a95bf2drow4_col13\" class=\"data row4 col13\" >253</td>\n",
       "                        <td id=\"T_587ff630_4dfc_11ec_bce2_d6852a95bf2drow4_col14\" class=\"data row4 col14\" >156</td>\n",
       "                        <td id=\"T_587ff630_4dfc_11ec_bce2_d6852a95bf2drow4_col15\" class=\"data row4 col15\" >0</td>\n",
       "                        <td id=\"T_587ff630_4dfc_11ec_bce2_d6852a95bf2drow4_col16\" class=\"data row4 col16\" >0</td>\n",
       "                        <td id=\"T_587ff630_4dfc_11ec_bce2_d6852a95bf2drow4_col17\" class=\"data row4 col17\" >0</td>\n",
       "            </tr>\n",
       "            <tr>\n",
       "                        <th id=\"T_587ff630_4dfc_11ec_bce2_d6852a95bf2dlevel0_row5\" class=\"row_heading level0 row5\" >5</th>\n",
       "                        <td id=\"T_587ff630_4dfc_11ec_bce2_d6852a95bf2drow5_col0\" class=\"data row5 col0\" >0</td>\n",
       "                        <td id=\"T_587ff630_4dfc_11ec_bce2_d6852a95bf2drow5_col1\" class=\"data row5 col1\" >3</td>\n",
       "                        <td id=\"T_587ff630_4dfc_11ec_bce2_d6852a95bf2drow5_col2\" class=\"data row5 col2\" >20</td>\n",
       "                        <td id=\"T_587ff630_4dfc_11ec_bce2_d6852a95bf2drow5_col3\" class=\"data row5 col3\" >20</td>\n",
       "                        <td id=\"T_587ff630_4dfc_11ec_bce2_d6852a95bf2drow5_col4\" class=\"data row5 col4\" >15</td>\n",
       "                        <td id=\"T_587ff630_4dfc_11ec_bce2_d6852a95bf2drow5_col5\" class=\"data row5 col5\" >0</td>\n",
       "                        <td id=\"T_587ff630_4dfc_11ec_bce2_d6852a95bf2drow5_col6\" class=\"data row5 col6\" >0</td>\n",
       "                        <td id=\"T_587ff630_4dfc_11ec_bce2_d6852a95bf2drow5_col7\" class=\"data row5 col7\" >0</td>\n",
       "                        <td id=\"T_587ff630_4dfc_11ec_bce2_d6852a95bf2drow5_col8\" class=\"data row5 col8\" >0</td>\n",
       "                        <td id=\"T_587ff630_4dfc_11ec_bce2_d6852a95bf2drow5_col9\" class=\"data row5 col9\" >0</td>\n",
       "                        <td id=\"T_587ff630_4dfc_11ec_bce2_d6852a95bf2drow5_col10\" class=\"data row5 col10\" >43</td>\n",
       "                        <td id=\"T_587ff630_4dfc_11ec_bce2_d6852a95bf2drow5_col11\" class=\"data row5 col11\" >224</td>\n",
       "                        <td id=\"T_587ff630_4dfc_11ec_bce2_d6852a95bf2drow5_col12\" class=\"data row5 col12\" >253</td>\n",
       "                        <td id=\"T_587ff630_4dfc_11ec_bce2_d6852a95bf2drow5_col13\" class=\"data row5 col13\" >245</td>\n",
       "                        <td id=\"T_587ff630_4dfc_11ec_bce2_d6852a95bf2drow5_col14\" class=\"data row5 col14\" >74</td>\n",
       "                        <td id=\"T_587ff630_4dfc_11ec_bce2_d6852a95bf2drow5_col15\" class=\"data row5 col15\" >0</td>\n",
       "                        <td id=\"T_587ff630_4dfc_11ec_bce2_d6852a95bf2drow5_col16\" class=\"data row5 col16\" >0</td>\n",
       "                        <td id=\"T_587ff630_4dfc_11ec_bce2_d6852a95bf2drow5_col17\" class=\"data row5 col17\" >0</td>\n",
       "            </tr>\n",
       "            <tr>\n",
       "                        <th id=\"T_587ff630_4dfc_11ec_bce2_d6852a95bf2dlevel0_row6\" class=\"row_heading level0 row6\" >6</th>\n",
       "                        <td id=\"T_587ff630_4dfc_11ec_bce2_d6852a95bf2drow6_col0\" class=\"data row6 col0\" >0</td>\n",
       "                        <td id=\"T_587ff630_4dfc_11ec_bce2_d6852a95bf2drow6_col1\" class=\"data row6 col1\" >0</td>\n",
       "                        <td id=\"T_587ff630_4dfc_11ec_bce2_d6852a95bf2drow6_col2\" class=\"data row6 col2\" >0</td>\n",
       "                        <td id=\"T_587ff630_4dfc_11ec_bce2_d6852a95bf2drow6_col3\" class=\"data row6 col3\" >0</td>\n",
       "                        <td id=\"T_587ff630_4dfc_11ec_bce2_d6852a95bf2drow6_col4\" class=\"data row6 col4\" >0</td>\n",
       "                        <td id=\"T_587ff630_4dfc_11ec_bce2_d6852a95bf2drow6_col5\" class=\"data row6 col5\" >0</td>\n",
       "                        <td id=\"T_587ff630_4dfc_11ec_bce2_d6852a95bf2drow6_col6\" class=\"data row6 col6\" >0</td>\n",
       "                        <td id=\"T_587ff630_4dfc_11ec_bce2_d6852a95bf2drow6_col7\" class=\"data row6 col7\" >0</td>\n",
       "                        <td id=\"T_587ff630_4dfc_11ec_bce2_d6852a95bf2drow6_col8\" class=\"data row6 col8\" >0</td>\n",
       "                        <td id=\"T_587ff630_4dfc_11ec_bce2_d6852a95bf2drow6_col9\" class=\"data row6 col9\" >0</td>\n",
       "                        <td id=\"T_587ff630_4dfc_11ec_bce2_d6852a95bf2drow6_col10\" class=\"data row6 col10\" >249</td>\n",
       "                        <td id=\"T_587ff630_4dfc_11ec_bce2_d6852a95bf2drow6_col11\" class=\"data row6 col11\" >253</td>\n",
       "                        <td id=\"T_587ff630_4dfc_11ec_bce2_d6852a95bf2drow6_col12\" class=\"data row6 col12\" >245</td>\n",
       "                        <td id=\"T_587ff630_4dfc_11ec_bce2_d6852a95bf2drow6_col13\" class=\"data row6 col13\" >126</td>\n",
       "                        <td id=\"T_587ff630_4dfc_11ec_bce2_d6852a95bf2drow6_col14\" class=\"data row6 col14\" >0</td>\n",
       "                        <td id=\"T_587ff630_4dfc_11ec_bce2_d6852a95bf2drow6_col15\" class=\"data row6 col15\" >0</td>\n",
       "                        <td id=\"T_587ff630_4dfc_11ec_bce2_d6852a95bf2drow6_col16\" class=\"data row6 col16\" >0</td>\n",
       "                        <td id=\"T_587ff630_4dfc_11ec_bce2_d6852a95bf2drow6_col17\" class=\"data row6 col17\" >0</td>\n",
       "            </tr>\n",
       "            <tr>\n",
       "                        <th id=\"T_587ff630_4dfc_11ec_bce2_d6852a95bf2dlevel0_row7\" class=\"row_heading level0 row7\" >7</th>\n",
       "                        <td id=\"T_587ff630_4dfc_11ec_bce2_d6852a95bf2drow7_col0\" class=\"data row7 col0\" >0</td>\n",
       "                        <td id=\"T_587ff630_4dfc_11ec_bce2_d6852a95bf2drow7_col1\" class=\"data row7 col1\" >0</td>\n",
       "                        <td id=\"T_587ff630_4dfc_11ec_bce2_d6852a95bf2drow7_col2\" class=\"data row7 col2\" >0</td>\n",
       "                        <td id=\"T_587ff630_4dfc_11ec_bce2_d6852a95bf2drow7_col3\" class=\"data row7 col3\" >0</td>\n",
       "                        <td id=\"T_587ff630_4dfc_11ec_bce2_d6852a95bf2drow7_col4\" class=\"data row7 col4\" >0</td>\n",
       "                        <td id=\"T_587ff630_4dfc_11ec_bce2_d6852a95bf2drow7_col5\" class=\"data row7 col5\" >0</td>\n",
       "                        <td id=\"T_587ff630_4dfc_11ec_bce2_d6852a95bf2drow7_col6\" class=\"data row7 col6\" >0</td>\n",
       "                        <td id=\"T_587ff630_4dfc_11ec_bce2_d6852a95bf2drow7_col7\" class=\"data row7 col7\" >14</td>\n",
       "                        <td id=\"T_587ff630_4dfc_11ec_bce2_d6852a95bf2drow7_col8\" class=\"data row7 col8\" >101</td>\n",
       "                        <td id=\"T_587ff630_4dfc_11ec_bce2_d6852a95bf2drow7_col9\" class=\"data row7 col9\" >223</td>\n",
       "                        <td id=\"T_587ff630_4dfc_11ec_bce2_d6852a95bf2drow7_col10\" class=\"data row7 col10\" >253</td>\n",
       "                        <td id=\"T_587ff630_4dfc_11ec_bce2_d6852a95bf2drow7_col11\" class=\"data row7 col11\" >248</td>\n",
       "                        <td id=\"T_587ff630_4dfc_11ec_bce2_d6852a95bf2drow7_col12\" class=\"data row7 col12\" >124</td>\n",
       "                        <td id=\"T_587ff630_4dfc_11ec_bce2_d6852a95bf2drow7_col13\" class=\"data row7 col13\" >0</td>\n",
       "                        <td id=\"T_587ff630_4dfc_11ec_bce2_d6852a95bf2drow7_col14\" class=\"data row7 col14\" >0</td>\n",
       "                        <td id=\"T_587ff630_4dfc_11ec_bce2_d6852a95bf2drow7_col15\" class=\"data row7 col15\" >0</td>\n",
       "                        <td id=\"T_587ff630_4dfc_11ec_bce2_d6852a95bf2drow7_col16\" class=\"data row7 col16\" >0</td>\n",
       "                        <td id=\"T_587ff630_4dfc_11ec_bce2_d6852a95bf2drow7_col17\" class=\"data row7 col17\" >0</td>\n",
       "            </tr>\n",
       "            <tr>\n",
       "                        <th id=\"T_587ff630_4dfc_11ec_bce2_d6852a95bf2dlevel0_row8\" class=\"row_heading level0 row8\" >8</th>\n",
       "                        <td id=\"T_587ff630_4dfc_11ec_bce2_d6852a95bf2drow8_col0\" class=\"data row8 col0\" >0</td>\n",
       "                        <td id=\"T_587ff630_4dfc_11ec_bce2_d6852a95bf2drow8_col1\" class=\"data row8 col1\" >0</td>\n",
       "                        <td id=\"T_587ff630_4dfc_11ec_bce2_d6852a95bf2drow8_col2\" class=\"data row8 col2\" >0</td>\n",
       "                        <td id=\"T_587ff630_4dfc_11ec_bce2_d6852a95bf2drow8_col3\" class=\"data row8 col3\" >0</td>\n",
       "                        <td id=\"T_587ff630_4dfc_11ec_bce2_d6852a95bf2drow8_col4\" class=\"data row8 col4\" >0</td>\n",
       "                        <td id=\"T_587ff630_4dfc_11ec_bce2_d6852a95bf2drow8_col5\" class=\"data row8 col5\" >11</td>\n",
       "                        <td id=\"T_587ff630_4dfc_11ec_bce2_d6852a95bf2drow8_col6\" class=\"data row8 col6\" >166</td>\n",
       "                        <td id=\"T_587ff630_4dfc_11ec_bce2_d6852a95bf2drow8_col7\" class=\"data row8 col7\" >239</td>\n",
       "                        <td id=\"T_587ff630_4dfc_11ec_bce2_d6852a95bf2drow8_col8\" class=\"data row8 col8\" >253</td>\n",
       "                        <td id=\"T_587ff630_4dfc_11ec_bce2_d6852a95bf2drow8_col9\" class=\"data row8 col9\" >253</td>\n",
       "                        <td id=\"T_587ff630_4dfc_11ec_bce2_d6852a95bf2drow8_col10\" class=\"data row8 col10\" >253</td>\n",
       "                        <td id=\"T_587ff630_4dfc_11ec_bce2_d6852a95bf2drow8_col11\" class=\"data row8 col11\" >187</td>\n",
       "                        <td id=\"T_587ff630_4dfc_11ec_bce2_d6852a95bf2drow8_col12\" class=\"data row8 col12\" >30</td>\n",
       "                        <td id=\"T_587ff630_4dfc_11ec_bce2_d6852a95bf2drow8_col13\" class=\"data row8 col13\" >0</td>\n",
       "                        <td id=\"T_587ff630_4dfc_11ec_bce2_d6852a95bf2drow8_col14\" class=\"data row8 col14\" >0</td>\n",
       "                        <td id=\"T_587ff630_4dfc_11ec_bce2_d6852a95bf2drow8_col15\" class=\"data row8 col15\" >0</td>\n",
       "                        <td id=\"T_587ff630_4dfc_11ec_bce2_d6852a95bf2drow8_col16\" class=\"data row8 col16\" >0</td>\n",
       "                        <td id=\"T_587ff630_4dfc_11ec_bce2_d6852a95bf2drow8_col17\" class=\"data row8 col17\" >0</td>\n",
       "            </tr>\n",
       "            <tr>\n",
       "                        <th id=\"T_587ff630_4dfc_11ec_bce2_d6852a95bf2dlevel0_row9\" class=\"row_heading level0 row9\" >9</th>\n",
       "                        <td id=\"T_587ff630_4dfc_11ec_bce2_d6852a95bf2drow9_col0\" class=\"data row9 col0\" >0</td>\n",
       "                        <td id=\"T_587ff630_4dfc_11ec_bce2_d6852a95bf2drow9_col1\" class=\"data row9 col1\" >0</td>\n",
       "                        <td id=\"T_587ff630_4dfc_11ec_bce2_d6852a95bf2drow9_col2\" class=\"data row9 col2\" >0</td>\n",
       "                        <td id=\"T_587ff630_4dfc_11ec_bce2_d6852a95bf2drow9_col3\" class=\"data row9 col3\" >0</td>\n",
       "                        <td id=\"T_587ff630_4dfc_11ec_bce2_d6852a95bf2drow9_col4\" class=\"data row9 col4\" >0</td>\n",
       "                        <td id=\"T_587ff630_4dfc_11ec_bce2_d6852a95bf2drow9_col5\" class=\"data row9 col5\" >16</td>\n",
       "                        <td id=\"T_587ff630_4dfc_11ec_bce2_d6852a95bf2drow9_col6\" class=\"data row9 col6\" >248</td>\n",
       "                        <td id=\"T_587ff630_4dfc_11ec_bce2_d6852a95bf2drow9_col7\" class=\"data row9 col7\" >250</td>\n",
       "                        <td id=\"T_587ff630_4dfc_11ec_bce2_d6852a95bf2drow9_col8\" class=\"data row9 col8\" >253</td>\n",
       "                        <td id=\"T_587ff630_4dfc_11ec_bce2_d6852a95bf2drow9_col9\" class=\"data row9 col9\" >253</td>\n",
       "                        <td id=\"T_587ff630_4dfc_11ec_bce2_d6852a95bf2drow9_col10\" class=\"data row9 col10\" >253</td>\n",
       "                        <td id=\"T_587ff630_4dfc_11ec_bce2_d6852a95bf2drow9_col11\" class=\"data row9 col11\" >253</td>\n",
       "                        <td id=\"T_587ff630_4dfc_11ec_bce2_d6852a95bf2drow9_col12\" class=\"data row9 col12\" >232</td>\n",
       "                        <td id=\"T_587ff630_4dfc_11ec_bce2_d6852a95bf2drow9_col13\" class=\"data row9 col13\" >213</td>\n",
       "                        <td id=\"T_587ff630_4dfc_11ec_bce2_d6852a95bf2drow9_col14\" class=\"data row9 col14\" >111</td>\n",
       "                        <td id=\"T_587ff630_4dfc_11ec_bce2_d6852a95bf2drow9_col15\" class=\"data row9 col15\" >2</td>\n",
       "                        <td id=\"T_587ff630_4dfc_11ec_bce2_d6852a95bf2drow9_col16\" class=\"data row9 col16\" >0</td>\n",
       "                        <td id=\"T_587ff630_4dfc_11ec_bce2_d6852a95bf2drow9_col17\" class=\"data row9 col17\" >0</td>\n",
       "            </tr>\n",
       "            <tr>\n",
       "                        <th id=\"T_587ff630_4dfc_11ec_bce2_d6852a95bf2dlevel0_row10\" class=\"row_heading level0 row10\" >10</th>\n",
       "                        <td id=\"T_587ff630_4dfc_11ec_bce2_d6852a95bf2drow10_col0\" class=\"data row10 col0\" >0</td>\n",
       "                        <td id=\"T_587ff630_4dfc_11ec_bce2_d6852a95bf2drow10_col1\" class=\"data row10 col1\" >0</td>\n",
       "                        <td id=\"T_587ff630_4dfc_11ec_bce2_d6852a95bf2drow10_col2\" class=\"data row10 col2\" >0</td>\n",
       "                        <td id=\"T_587ff630_4dfc_11ec_bce2_d6852a95bf2drow10_col3\" class=\"data row10 col3\" >0</td>\n",
       "                        <td id=\"T_587ff630_4dfc_11ec_bce2_d6852a95bf2drow10_col4\" class=\"data row10 col4\" >0</td>\n",
       "                        <td id=\"T_587ff630_4dfc_11ec_bce2_d6852a95bf2drow10_col5\" class=\"data row10 col5\" >0</td>\n",
       "                        <td id=\"T_587ff630_4dfc_11ec_bce2_d6852a95bf2drow10_col6\" class=\"data row10 col6\" >0</td>\n",
       "                        <td id=\"T_587ff630_4dfc_11ec_bce2_d6852a95bf2drow10_col7\" class=\"data row10 col7\" >43</td>\n",
       "                        <td id=\"T_587ff630_4dfc_11ec_bce2_d6852a95bf2drow10_col8\" class=\"data row10 col8\" >98</td>\n",
       "                        <td id=\"T_587ff630_4dfc_11ec_bce2_d6852a95bf2drow10_col9\" class=\"data row10 col9\" >98</td>\n",
       "                        <td id=\"T_587ff630_4dfc_11ec_bce2_d6852a95bf2drow10_col10\" class=\"data row10 col10\" >208</td>\n",
       "                        <td id=\"T_587ff630_4dfc_11ec_bce2_d6852a95bf2drow10_col11\" class=\"data row10 col11\" >253</td>\n",
       "                        <td id=\"T_587ff630_4dfc_11ec_bce2_d6852a95bf2drow10_col12\" class=\"data row10 col12\" >253</td>\n",
       "                        <td id=\"T_587ff630_4dfc_11ec_bce2_d6852a95bf2drow10_col13\" class=\"data row10 col13\" >253</td>\n",
       "                        <td id=\"T_587ff630_4dfc_11ec_bce2_d6852a95bf2drow10_col14\" class=\"data row10 col14\" >253</td>\n",
       "                        <td id=\"T_587ff630_4dfc_11ec_bce2_d6852a95bf2drow10_col15\" class=\"data row10 col15\" >187</td>\n",
       "                        <td id=\"T_587ff630_4dfc_11ec_bce2_d6852a95bf2drow10_col16\" class=\"data row10 col16\" >22</td>\n",
       "                        <td id=\"T_587ff630_4dfc_11ec_bce2_d6852a95bf2drow10_col17\" class=\"data row10 col17\" >0</td>\n",
       "            </tr>\n",
       "    </tbody></table>"
      ],
      "text/plain": [
       "<pandas.io.formats.style.Styler at 0x7fc42c425b80>"
      ]
     },
     "execution_count": 13,
     "metadata": {},
     "output_type": "execute_result"
    }
   ],
   "source": [
    "# and as a shaded dataframe\n",
    "\n",
    "df.style.set_properties(**{'font-size':'6pt'}).background_gradient('Greys')"
   ]
  },
  {
   "cell_type": "code",
   "execution_count": 16,
   "metadata": {},
   "outputs": [
    {
     "data": {
      "text/plain": [
       "(6131, 6265)"
      ]
     },
     "execution_count": 16,
     "metadata": {},
     "output_type": "execute_result"
    }
   ],
   "source": [
    "# creating lists of the images in the 7 and 3 folders\n",
    "\n",
    "seven_tensors = [tensor(Image.open(o)) for o in sevens]\n",
    "three_tensors = [tensor(Image.open(o)) for o in threes]\n",
    "len(three_tensors),len(seven_tensors)"
   ]
  },
  {
   "cell_type": "code",
   "execution_count": 17,
   "metadata": {},
   "outputs": [
    {
     "data": {
      "text/plain": [
       "torch.Size([6131, 28, 28])"
      ]
     },
     "execution_count": 17,
     "metadata": {},
     "output_type": "execute_result"
    }
   ],
   "source": [
    "# using torch.stack to stack the tensors into a 3 dimensional tensor\n",
    "\n",
    "stacked_sevens = torch.stack(seven_tensors).float()/255\n",
    "stacked_threes = torch.stack(three_tensors).float()/255\n",
    "stacked_threes.shape"
   ]
  },
  {
   "cell_type": "code",
   "execution_count": 19,
   "metadata": {},
   "outputs": [
    {
     "data": {
      "image/png": "[encoded data removed]",
      "text/plain": [
       "<Figure size 72x72 with 1 Axes>"
      ]
     },
     "metadata": {
      "needs_background": "light"
     },
     "output_type": "display_data"
    }
   ],
   "source": [
    "# showing a value from the stacked tensor of 3s\n",
    "\n",
    "a_3 = stacked_threes[1]\n",
    "show_image(a_3);"
   ]
  },
  {
   "cell_type": "code",
   "execution_count": 21,
   "metadata": {},
   "outputs": [
    {
     "data": {
      "image/png": "[encoded data removed]",
      "text/plain": [
       "<Figure size 72x72 with 1 Axes>"
      ]
     },
     "metadata": {
      "needs_background": "light"
     },
     "output_type": "display_data"
    }
   ],
   "source": [
    "# the average 3\n",
    "\n",
    "mean3 = stacked_threes.mean(0)\n",
    "show_image(mean3);"
   ]
  },
  {
   "cell_type": "code",
   "execution_count": 22,
   "metadata": {},
   "outputs": [
    {
     "data": {
      "image/png": "[encoded data removed]",
      "text/plain": [
       "<Figure size 72x72 with 1 Axes>"
      ]
     },
     "metadata": {
      "needs_background": "light"
     },
     "output_type": "display_data"
    }
   ],
   "source": [
    "# the average 7\n",
    "\n",
    "mean7 = stacked_sevens.mean(0)\n",
    "show_image(mean7);"
   ]
  },
  {
   "cell_type": "code",
   "execution_count": 23,
   "metadata": {},
   "outputs": [
    {
     "data": {
      "text/plain": [
       "(torch.Size([1010, 28, 28]), torch.Size([1028, 28, 28]))"
      ]
     },
     "execution_count": 23,
     "metadata": {},
     "output_type": "execute_result"
    }
   ],
   "source": [
    "# creating stacked tensors for the validations sets\n",
    "\n",
    "valid_3_tens = torch.stack([tensor(Image.open(o)) \n",
    "                            for o in (path/'valid'/'3').ls()])\n",
    "valid_3_tens = valid_3_tens.float()/255\n",
    "valid_7_tens = torch.stack([tensor(Image.open(o)) \n",
    "                            for o in (path/'valid'/'7').ls()])\n",
    "valid_7_tens = valid_7_tens.float()/255\n",
    "valid_3_tens.shape,valid_7_tens.shape"
   ]
  },
  {
   "cell_type": "code",
   "execution_count": 25,
   "metadata": {},
   "outputs": [
    {
     "data": {
      "text/plain": [
       "tensor(0.1114)"
      ]
     },
     "execution_count": 25,
     "metadata": {},
     "output_type": "execute_result"
    }
   ],
   "source": [
    "# creating a simple distance function and using it to measure the distance between a single 3 and the average of all 3s\n",
    "\n",
    "def mnist_distance(a,b): return (a-b).abs().mean((-1,-2))\n",
    "mnist_distance(a_3, mean3)"
   ]
  },
  {
   "cell_type": "code",
   "execution_count": 26,
   "metadata": {},
   "outputs": [
    {
     "data": {
      "text/plain": [
       "(tensor([0.1328, 0.1523, 0.1245,  ..., 0.1383, 0.1280, 0.1138]),\n",
       " torch.Size([1010]))"
      ]
     },
     "execution_count": 26,
     "metadata": {},
     "output_type": "execute_result"
    }
   ],
   "source": [
    "valid_3_dist = mnist_distance(valid_3_tens, mean3)\n",
    "valid_3_dist, valid_3_dist.shape"
   ]
  },
  {
   "cell_type": "code",
   "execution_count": null,
   "metadata": {},
   "outputs": [],
   "source": []
  },
  {
   "cell_type": "markdown",
   "metadata": {},
   "source": [
    "#### Preparing the data\n",
    "\n",
    "Stacked_threes and stacked_sevens are tensors with three dimensions\n",
    "\n",
    "When stacked they have size 12396 x 28 x 28\n",
    "\n",
    "Torch.cat stacks them, and the view method unwraps them into a 12396 x 784 2 dimensional tensor"
   ]
  },
  {
   "cell_type": "code",
   "execution_count": 46,
   "metadata": {},
   "outputs": [
    {
     "data": {
      "text/plain": [
       "(torch.Size([12396, 784]), torch.Size([12396, 1]))"
      ]
     },
     "execution_count": 46,
     "metadata": {},
     "output_type": "execute_result"
    }
   ],
   "source": [
    "train_x = torch.cat([stacked_threes, stacked_sevens]).view(-1, 28*28)\n",
    "train_y = tensor([1]*len(threes) + [0]*len(sevens)).unsqueeze(1)\n",
    "train_x.shape,train_y.shape"
   ]
  },
  {
   "cell_type": "markdown",
   "metadata": {},
   "source": [
    "zip and list combine to create a dataset that returns an (x,y) tuple"
   ]
  },
  {
   "cell_type": "code",
   "execution_count": 44,
   "metadata": {},
   "outputs": [
    {
     "data": {
      "text/plain": [
       "(torch.Size([784]), tensor([1]))"
      ]
     },
     "execution_count": 44,
     "metadata": {},
     "output_type": "execute_result"
    }
   ],
   "source": [
    "dset = list(zip(train_x,train_y))\n",
    "x,y = dset[0]\n",
    "x.shape,y"
   ]
  },
  {
   "cell_type": "code",
   "execution_count": 49,
   "metadata": {},
   "outputs": [],
   "source": [
    "# Do the same for the validation data\n",
    "\n",
    "valid_x = torch.cat([valid_3_tens, valid_7_tens]).view(-1, 28*28)\n",
    "valid_y = tensor([1]*len(valid_3_tens) + [0]*len(valid_7_tens)).unsqueeze(1)\n",
    "valid_dset = list(zip(valid_x,valid_y))"
   ]
  },
  {
   "cell_type": "markdown",
   "metadata": {},
   "source": [
    "A function to initialise the parameters, with gradients"
   ]
  },
  {
   "cell_type": "code",
   "execution_count": 51,
   "metadata": {},
   "outputs": [],
   "source": [
    "def init_params(size, std=1.0): return (torch.randn(size)*std).requires_grad_()"
   ]
  },
  {
   "cell_type": "markdown",
   "metadata": {},
   "source": [
    "Initialising the weights and including a bias coefficient"
   ]
  },
  {
   "cell_type": "code",
   "execution_count": 67,
   "metadata": {},
   "outputs": [],
   "source": [
    "# This is a vector of length 28^2\n",
    "\n",
    "weights = init_params((28*28,1))"
   ]
  },
  {
   "cell_type": "code",
   "execution_count": 68,
   "metadata": {},
   "outputs": [],
   "source": [
    "bias = init_params(1)"
   ]
  },
  {
   "cell_type": "code",
   "execution_count": 69,
   "metadata": {},
   "outputs": [
    {
     "data": {
      "text/plain": [
       "tensor([14.0882], grad_fn=<AddBackward0>)"
      ]
     },
     "execution_count": 69,
     "metadata": {},
     "output_type": "execute_result"
    }
   ],
   "source": [
    "# Trying this out on a single picture from the training dataset\n",
    "\n",
    "(train_x[0]*weights.T).sum() + bias"
   ]
  },
  {
   "cell_type": "markdown",
   "metadata": {},
   "source": [
    "This multiplies every image by the weights, and adds a bias\n",
    "\n",
    "The output is a vector with the sum product of each image by the weights, plus the bias"
   ]
  },
  {
   "cell_type": "code",
   "execution_count": 70,
   "metadata": {},
   "outputs": [
    {
     "data": {
      "text/plain": [
       "tensor([[14.0882],\n",
       "        [13.9915],\n",
       "        [16.0442],\n",
       "        ...,\n",
       "        [ 1.2085],\n",
       "        [ 1.7146],\n",
       "        [ 2.6879]], grad_fn=<AddBackward0>)"
      ]
     },
     "execution_count": 70,
     "metadata": {},
     "output_type": "execute_result"
    }
   ],
   "source": [
    "def linear1(xb): return xb@weights + bias\n",
    "preds = linear1(train_x)\n",
    "preds"
   ]
  },
  {
   "cell_type": "markdown",
   "metadata": {},
   "source": [
    "This step uses boolean logic to say that if the score > 0.5 then it's a 3, otherwise it's a 7"
   ]
  },
  {
   "cell_type": "code",
   "execution_count": 71,
   "metadata": {},
   "outputs": [
    {
     "data": {
      "text/plain": [
       "tensor([[ True],\n",
       "        [ True],\n",
       "        [ True],\n",
       "        ...,\n",
       "        [False],\n",
       "        [False],\n",
       "        [False]])"
      ]
     },
     "execution_count": 71,
     "metadata": {},
     "output_type": "execute_result"
    }
   ],
   "source": [
    "corrects = (preds>0.5).float() == train_y\n",
    "corrects"
   ]
  },
  {
   "cell_type": "code",
   "execution_count": 72,
   "metadata": {},
   "outputs": [
    {
     "data": {
      "text/plain": [
       "0.5766376256942749"
      ]
     },
     "execution_count": 72,
     "metadata": {},
     "output_type": "execute_result"
    }
   ],
   "source": [
    "# Calculating the accuracy rate\n",
    "\n",
    "corrects.float().mean().item()"
   ]
  },
  {
   "cell_type": "markdown",
   "metadata": {},
   "source": [
    "Adjusting the weights slightly and creating a new prediction gives a slightly different accuracy"
   ]
  },
  {
   "cell_type": "code",
   "execution_count": 79,
   "metadata": {},
   "outputs": [],
   "source": [
    "weights[0] *= 1.0001"
   ]
  },
  {
   "cell_type": "code",
   "execution_count": 80,
   "metadata": {},
   "outputs": [
    {
     "data": {
      "text/plain": [
       "0.5642949342727661"
      ]
     },
     "execution_count": 80,
     "metadata": {},
     "output_type": "execute_result"
    }
   ],
   "source": [
    "preds = linear1(train_x)\n",
    "((preds>0.0).float() == train_y).float().mean().item()"
   ]
  },
  {
   "cell_type": "markdown",
   "metadata": {},
   "source": [
    "The sigmoid function allows for a continuous, smooth loss function even when the classification accuracy is not affected by a change in parameters"
   ]
  },
  {
   "cell_type": "code",
   "execution_count": 81,
   "metadata": {},
   "outputs": [],
   "source": [
    "def sigmoid(x): return 1/(1+torch.exp(-x))"
   ]
  },
  {
   "cell_type": "code",
   "execution_count": 77,
   "metadata": {},
   "outputs": [
    {
     "data": {
      "image/png": "[encoded data removed]",
      "text/plain": [
       "<Figure size 432x288 with 1 Axes>"
      ]
     },
     "metadata": {
      "needs_background": "light"
     },
     "output_type": "display_data"
    }
   ],
   "source": [
    "plot_function(torch.sigmoid, title='Sigmoid', min=-4, max=4)"
   ]
  },
  {
   "cell_type": "markdown",
   "metadata": {},
   "source": [
    "The Loss function then provides loss values for a set of predictions that will change for any change in weights"
   ]
  },
  {
   "cell_type": "code",
   "execution_count": 78,
   "metadata": {},
   "outputs": [],
   "source": [
    "def mnist_loss(predictions, targets):\n",
    "    predictions = predictions.sigmoid()\n",
    "    return torch.where(targets==1, 1-predictions, predictions).mean()"
   ]
  },
  {
   "cell_type": "markdown",
   "metadata": {},
   "source": [
    "### Putting it together"
   ]
  },
  {
   "cell_type": "code",
   "execution_count": 98,
   "metadata": {},
   "outputs": [],
   "source": [
    "# Reinitialise Paramters\n",
    "\n",
    "weights = init_params((28*28,1))\n",
    "bias = init_params(1)"
   ]
  },
  {
   "cell_type": "code",
   "execution_count": 99,
   "metadata": {},
   "outputs": [
    {
     "data": {
      "text/plain": [
       "(torch.Size([256, 784]), torch.Size([256, 1]))"
      ]
     },
     "execution_count": 99,
     "metadata": {},
     "output_type": "execute_result"
    }
   ],
   "source": [
    "# Use fastai's dataloader to load the dataset\n",
    "\n",
    "dl = DataLoader(dset, batch_size=256)\n",
    "xb,yb = first(dl)\n",
    "xb.shape,yb.shape"
   ]
  },
  {
   "cell_type": "code",
   "execution_count": 100,
   "metadata": {},
   "outputs": [],
   "source": [
    "# And validation dataset\n",
    "\n",
    "valid_dl = DataLoader(valid_dset, batch_size=256)"
   ]
  },
  {
   "cell_type": "code",
   "execution_count": 101,
   "metadata": {},
   "outputs": [],
   "source": [
    "# This function:\n",
    "#     Takes the input data\n",
    "#     Makes predictions based on the model ax + b\n",
    "#     Calculates the loss using the sigmoid functionality when comparing to the dependent values\n",
    "#     Calculated the gradients using the .backward() method\n",
    "\n",
    "def calc_grad(xb, yb, model):\n",
    "    preds = model(xb)\n",
    "    loss = mnist_loss(preds, yb)\n",
    "    loss.backward()"
   ]
  },
  {
   "cell_type": "code",
   "execution_count": 103,
   "metadata": {},
   "outputs": [
    {
     "data": {
      "text/plain": [
       "(tensor(-0.0017), tensor([-0.0118]))"
      ]
     },
     "execution_count": 103,
     "metadata": {},
     "output_type": "execute_result"
    }
   ],
   "source": [
    "# Testing it with a few datapoints\n",
    "\n",
    "batch = train_x[:4]\n",
    "\n",
    "calc_grad(batch, train_y[:4], linear1)\n",
    "weights.grad.mean(),bias.grad"
   ]
  },
  {
   "cell_type": "markdown",
   "metadata": {},
   "source": [
    "The next step takes the data, the learning rate, and the parameters as inputs\n",
    "\n",
    "It calculated gradients and adjusts the parameters by the gradients x learning rates\n",
    "\n",
    "It resets the gradients to zero, since PyTorch retains gradients and will add to them otherwise"
   ]
  },
  {
   "cell_type": "code",
   "execution_count": 104,
   "metadata": {},
   "outputs": [],
   "source": [
    "def train_epoch(model, lr, params):\n",
    "    for xb,yb in dl:\n",
    "        calc_grad(xb, yb, model)\n",
    "        for p in params:\n",
    "            p.data -= p.grad*lr\n",
    "            p.grad.zero_()"
   ]
  },
  {
   "cell_type": "markdown",
   "metadata": {},
   "source": [
    "A function to check the batch accuracy feeds the data through the sigmoid function and then categorises it"
   ]
  },
  {
   "cell_type": "code",
   "execution_count": 107,
   "metadata": {},
   "outputs": [],
   "source": [
    "def batch_accuracy(xb, yb):\n",
    "    preds = xb.sigmoid()\n",
    "    correct = (preds>0.5) == yb\n",
    "    return correct.float().mean()"
   ]
  },
  {
   "cell_type": "code",
   "execution_count": 108,
   "metadata": {},
   "outputs": [
    {
     "data": {
      "text/plain": [
       "tensor(1.)"
      ]
     },
     "execution_count": 108,
     "metadata": {},
     "output_type": "execute_result"
    }
   ],
   "source": [
    "# Checking if it works\n",
    "\n",
    "batch_accuracy(linear1(batch), train_y[:4])"
   ]
  },
  {
   "cell_type": "markdown",
   "metadata": {},
   "source": [
    "A wider validation function checks the model's predictions against the labels for every image and returns the average accuracy rate"
   ]
  },
  {
   "cell_type": "code",
   "execution_count": 109,
   "metadata": {},
   "outputs": [],
   "source": [
    "def validate_epoch(model):\n",
    "    accs = [batch_accuracy(model(xb), yb) for xb,yb in valid_dl]\n",
    "    return round(torch.stack(accs).mean().item(), 4)"
   ]
  },
  {
   "cell_type": "code",
   "execution_count": 110,
   "metadata": {},
   "outputs": [
    {
     "data": {
      "text/plain": [
       "0.6883"
      ]
     },
     "execution_count": 110,
     "metadata": {},
     "output_type": "execute_result"
    }
   ],
   "source": [
    "validate_epoch(linear1)"
   ]
  },
  {
   "cell_type": "markdown",
   "metadata": {},
   "source": [
    "Training for a single epoch..."
   ]
  },
  {
   "cell_type": "code",
   "execution_count": 111,
   "metadata": {},
   "outputs": [
    {
     "data": {
      "text/plain": [
       "0.7177"
      ]
     },
     "execution_count": 111,
     "metadata": {},
     "output_type": "execute_result"
    }
   ],
   "source": [
    "lr = 1.\n",
    "params = weights,bias\n",
    "train_epoch(linear1, lr, params)\n",
    "validate_epoch(linear1)"
   ]
  },
  {
   "cell_type": "markdown",
   "metadata": {},
   "source": [
    "And training for 20 more gives steadily increasing accuracy"
   ]
  },
  {
   "cell_type": "code",
   "execution_count": 112,
   "metadata": {},
   "outputs": [
    {
     "name": "stdout",
     "output_type": "stream",
     "text": [
      "0.8837 0.9398 0.9549 0.9593 0.9613 0.9652 0.9666 0.9681 0.9676 0.9676 0.9681 0.9681 0.9686 0.9686 0.9691 0.9695 0.9695 0.97 0.971 0.971 "
     ]
    }
   ],
   "source": [
    "for i in range(20):\n",
    "    train_epoch(linear1, lr, params)\n",
    "    print(validate_epoch(linear1), end=' ')"
   ]
  },
  {
   "cell_type": "markdown",
   "metadata": {},
   "source": [
    "### Using PyTorch to make implementation easier"
   ]
  },
  {
   "cell_type": "markdown",
   "metadata": {},
   "source": [
    "nn.Linear does the same thing as our init_params and linear together. It contains both the weights and biases in a single class."
   ]
  },
  {
   "cell_type": "code",
   "execution_count": 113,
   "metadata": {},
   "outputs": [],
   "source": [
    "linear_model = nn.Linear(28*28,1)"
   ]
  },
  {
   "cell_type": "markdown",
   "metadata": {},
   "source": [
    "Simple Optimizer:"
   ]
  },
  {
   "cell_type": "code",
   "execution_count": 114,
   "metadata": {},
   "outputs": [],
   "source": [
    "class BasicOptim:\n",
    "    def __init__(self,params,lr): self.params,self.lr = list(params),lr\n",
    "\n",
    "    def step(self, *args, **kwargs):\n",
    "        for p in self.params: p.data -= p.grad.data * self.lr\n",
    "\n",
    "    def zero_grad(self, *args, **kwargs):\n",
    "        for p in self.params: p.grad = None\n",
    "            \n",
    "opt = BasicOptim(linear_model.parameters(), lr)"
   ]
  },
  {
   "cell_type": "code",
   "execution_count": 115,
   "metadata": {},
   "outputs": [],
   "source": [
    "def train_epoch(model):\n",
    "    for xb,yb in dl:\n",
    "        calc_grad(xb, yb, model)\n",
    "        opt.step()\n",
    "        opt.zero_grad()"
   ]
  },
  {
   "cell_type": "code",
   "execution_count": 116,
   "metadata": {},
   "outputs": [
    {
     "data": {
      "text/plain": [
       "0.4639"
      ]
     },
     "execution_count": 116,
     "metadata": {},
     "output_type": "execute_result"
    }
   ],
   "source": [
    "validate_epoch(linear_model)"
   ]
  },
  {
   "cell_type": "code",
   "execution_count": 117,
   "metadata": {},
   "outputs": [],
   "source": [
    "def train_model(model, epochs):\n",
    "    for i in range(epochs):\n",
    "        train_epoch(model)\n",
    "        print(validate_epoch(model), end=' ')"
   ]
  },
  {
   "cell_type": "code",
   "execution_count": 118,
   "metadata": {},
   "outputs": [
    {
     "name": "stdout",
     "output_type": "stream",
     "text": [
      "0.4932 0.7768 0.8554 0.917 0.9365 0.9496 0.9565 0.9633 0.9657 0.9677 0.9696 0.9716 0.9736 0.9745 0.976 0.9765 0.9775 0.978 0.978 0.9789 "
     ]
    }
   ],
   "source": [
    "train_model(linear_model, 20)"
   ]
  },
  {
   "cell_type": "markdown",
   "metadata": {},
   "source": [
    "Fastai provides the SGD class which does the same thing as the BasicOptim"
   ]
  },
  {
   "cell_type": "code",
   "execution_count": 119,
   "metadata": {},
   "outputs": [
    {
     "name": "stdout",
     "output_type": "stream",
     "text": [
      "0.4932 0.7754 0.8623 0.9179 0.9355 0.9487 0.9579 0.9638 0.9657 0.9672 0.9692 0.9726 0.9741 0.9745 0.9755 0.977 0.9775 0.9775 0.978 0.9785 "
     ]
    }
   ],
   "source": [
    "linear_model = nn.Linear(28*28,1)\n",
    "opt = SGD(linear_model.parameters(), lr)\n",
    "train_model(linear_model, 20)"
   ]
  },
  {
   "cell_type": "markdown",
   "metadata": {},
   "source": [
    "It also provides Learner.fit which can be used instead of train_model"
   ]
  },
  {
   "cell_type": "code",
   "execution_count": 120,
   "metadata": {},
   "outputs": [],
   "source": [
    "dls = DataLoaders(dl, valid_dl)"
   ]
  },
  {
   "cell_type": "code",
   "execution_count": 121,
   "metadata": {},
   "outputs": [],
   "source": [
    "learn = Learner(dls, nn.Linear(28*28,1), opt_func=SGD,\n",
    "                loss_func=mnist_loss, metrics=batch_accuracy)"
   ]
  },
  {
   "cell_type": "code",
   "execution_count": 122,
   "metadata": {},
   "outputs": [
    {
     "data": {
      "text/html": [
       "<table border=\"1\" class=\"dataframe\">\n",
       "  <thead>\n",
       "    <tr style=\"text-align: left;\">\n",
       "      <th>epoch</th>\n",
       "      <th>train_loss</th>\n",
       "      <th>valid_loss</th>\n",
       "      <th>batch_accuracy</th>\n",
       "      <th>time</th>\n",
       "    </tr>\n",
       "  </thead>\n",
       "  <tbody>\n",
       "    <tr>\n",
       "      <td>0</td>\n",
       "      <td>0.635865</td>\n",
       "      <td>0.502849</td>\n",
       "      <td>0.495584</td>\n",
       "      <td>00:00</td>\n",
       "    </tr>\n",
       "    <tr>\n",
       "      <td>1</td>\n",
       "      <td>0.379722</td>\n",
       "      <td>0.259478</td>\n",
       "      <td>0.761040</td>\n",
       "      <td>00:00</td>\n",
       "    </tr>\n",
       "    <tr>\n",
       "      <td>2</td>\n",
       "      <td>0.144540</td>\n",
       "      <td>0.158572</td>\n",
       "      <td>0.858685</td>\n",
       "      <td>00:00</td>\n",
       "    </tr>\n",
       "    <tr>\n",
       "      <td>3</td>\n",
       "      <td>0.066544</td>\n",
       "      <td>0.099434</td>\n",
       "      <td>0.917566</td>\n",
       "      <td>00:00</td>\n",
       "    </tr>\n",
       "    <tr>\n",
       "      <td>4</td>\n",
       "      <td>0.037609</td>\n",
       "      <td>0.074198</td>\n",
       "      <td>0.934740</td>\n",
       "      <td>00:00</td>\n",
       "    </tr>\n",
       "    <tr>\n",
       "      <td>5</td>\n",
       "      <td>0.026163</td>\n",
       "      <td>0.060126</td>\n",
       "      <td>0.949951</td>\n",
       "      <td>00:00</td>\n",
       "    </tr>\n",
       "    <tr>\n",
       "      <td>6</td>\n",
       "      <td>0.021359</td>\n",
       "      <td>0.051220</td>\n",
       "      <td>0.956820</td>\n",
       "      <td>00:00</td>\n",
       "    </tr>\n",
       "    <tr>\n",
       "      <td>7</td>\n",
       "      <td>0.019145</td>\n",
       "      <td>0.045230</td>\n",
       "      <td>0.964181</td>\n",
       "      <td>00:00</td>\n",
       "    </tr>\n",
       "    <tr>\n",
       "      <td>8</td>\n",
       "      <td>0.017964</td>\n",
       "      <td>0.040989</td>\n",
       "      <td>0.966143</td>\n",
       "      <td>00:00</td>\n",
       "    </tr>\n",
       "    <tr>\n",
       "      <td>9</td>\n",
       "      <td>0.017219</td>\n",
       "      <td>0.037848</td>\n",
       "      <td>0.968106</td>\n",
       "      <td>00:00</td>\n",
       "    </tr>\n",
       "  </tbody>\n",
       "</table>"
      ],
      "text/plain": [
       "<IPython.core.display.HTML object>"
      ]
     },
     "metadata": {},
     "output_type": "display_data"
    }
   ],
   "source": [
    "learn.fit(10, lr=lr)"
   ]
  },
  {
   "cell_type": "markdown",
   "metadata": {},
   "source": [
    "### Adding a Nonlinearity"
   ]
  },
  {
   "cell_type": "code",
   "execution_count": 123,
   "metadata": {},
   "outputs": [],
   "source": [
    "def simple_net(xb): \n",
    "    res = xb@w1 + b1\n",
    "    res = res.max(tensor(0.0))\n",
    "    res = res@w2 + b2\n",
    "    return res"
   ]
  },
  {
   "cell_type": "markdown",
   "metadata": {},
   "source": [
    "w1 has 30 output activations, so w2 must have 30 matching input activations"
   ]
  },
  {
   "cell_type": "code",
   "execution_count": 124,
   "metadata": {},
   "outputs": [],
   "source": [
    "w1 = init_params((28*28,30))\n",
    "b1 = init_params(30)\n",
    "w2 = init_params((30,1))\n",
    "b2 = init_params(1)"
   ]
  },
  {
   "cell_type": "markdown",
   "metadata": {},
   "source": [
    "The nonlinearity is just the relu function. Relu means rectified linear unit."
   ]
  },
  {
   "cell_type": "code",
   "execution_count": 125,
   "metadata": {
    "scrolled": true
   },
   "outputs": [
    {
     "data": {
      "image/png": "[encoded data removed]",
      "text/plain": [
       "<Figure size 432x288 with 1 Axes>"
      ]
     },
     "metadata": {
      "needs_background": "light"
     },
     "output_type": "display_data"
    }
   ],
   "source": [
    "plot_function(F.relu)"
   ]
  },
  {
   "cell_type": "markdown",
   "metadata": {},
   "source": [
    "Again, this can be replaced with ready-made components from PyTorch"
   ]
  },
  {
   "cell_type": "code",
   "execution_count": 126,
   "metadata": {},
   "outputs": [],
   "source": [
    "simple_net = nn.Sequential(\n",
    "    nn.Linear(28*28,30),\n",
    "    nn.ReLU(),\n",
    "    nn.Linear(30,1)\n",
    ")"
   ]
  },
  {
   "cell_type": "code",
   "execution_count": 127,
   "metadata": {},
   "outputs": [],
   "source": [
    "learn = Learner(dls, simple_net, opt_func=SGD,\n",
    "                loss_func=mnist_loss, metrics=batch_accuracy)"
   ]
  },
  {
   "cell_type": "code",
   "execution_count": 128,
   "metadata": {
    "scrolled": true
   },
   "outputs": [
    {
     "data": {
      "text/html": [
       "<table border=\"1\" class=\"dataframe\">\n",
       "  <thead>\n",
       "    <tr style=\"text-align: left;\">\n",
       "      <th>epoch</th>\n",
       "      <th>train_loss</th>\n",
       "      <th>valid_loss</th>\n",
       "      <th>batch_accuracy</th>\n",
       "      <th>time</th>\n",
       "    </tr>\n",
       "  </thead>\n",
       "  <tbody>\n",
       "    <tr>\n",
       "      <td>0</td>\n",
       "      <td>0.298954</td>\n",
       "      <td>0.410011</td>\n",
       "      <td>0.505888</td>\n",
       "      <td>00:00</td>\n",
       "    </tr>\n",
       "    <tr>\n",
       "      <td>1</td>\n",
       "      <td>0.141931</td>\n",
       "      <td>0.219284</td>\n",
       "      <td>0.819431</td>\n",
       "      <td>00:00</td>\n",
       "    </tr>\n",
       "    <tr>\n",
       "      <td>2</td>\n",
       "      <td>0.079610</td>\n",
       "      <td>0.112800</td>\n",
       "      <td>0.915604</td>\n",
       "      <td>00:00</td>\n",
       "    </tr>\n",
       "    <tr>\n",
       "      <td>3</td>\n",
       "      <td>0.052965</td>\n",
       "      <td>0.077275</td>\n",
       "      <td>0.940137</td>\n",
       "      <td>00:00</td>\n",
       "    </tr>\n",
       "    <tr>\n",
       "      <td>4</td>\n",
       "      <td>0.040481</td>\n",
       "      <td>0.060771</td>\n",
       "      <td>0.955839</td>\n",
       "      <td>00:00</td>\n",
       "    </tr>\n",
       "    <tr>\n",
       "      <td>5</td>\n",
       "      <td>0.034022</td>\n",
       "      <td>0.051403</td>\n",
       "      <td>0.963690</td>\n",
       "      <td>00:00</td>\n",
       "    </tr>\n",
       "    <tr>\n",
       "      <td>6</td>\n",
       "      <td>0.030262</td>\n",
       "      <td>0.045472</td>\n",
       "      <td>0.965162</td>\n",
       "      <td>00:00</td>\n",
       "    </tr>\n",
       "    <tr>\n",
       "      <td>7</td>\n",
       "      <td>0.027794</td>\n",
       "      <td>0.041397</td>\n",
       "      <td>0.966143</td>\n",
       "      <td>00:00</td>\n",
       "    </tr>\n",
       "    <tr>\n",
       "      <td>8</td>\n",
       "      <td>0.026003</td>\n",
       "      <td>0.038421</td>\n",
       "      <td>0.968106</td>\n",
       "      <td>00:00</td>\n",
       "    </tr>\n",
       "    <tr>\n",
       "      <td>9</td>\n",
       "      <td>0.024613</td>\n",
       "      <td>0.036136</td>\n",
       "      <td>0.969578</td>\n",
       "      <td>00:00</td>\n",
       "    </tr>\n",
       "    <tr>\n",
       "      <td>10</td>\n",
       "      <td>0.023485</td>\n",
       "      <td>0.034318</td>\n",
       "      <td>0.971050</td>\n",
       "      <td>00:00</td>\n",
       "    </tr>\n",
       "    <tr>\n",
       "      <td>11</td>\n",
       "      <td>0.022544</td>\n",
       "      <td>0.032827</td>\n",
       "      <td>0.972522</td>\n",
       "      <td>00:00</td>\n",
       "    </tr>\n",
       "    <tr>\n",
       "      <td>12</td>\n",
       "      <td>0.021743</td>\n",
       "      <td>0.031575</td>\n",
       "      <td>0.973013</td>\n",
       "      <td>00:00</td>\n",
       "    </tr>\n",
       "    <tr>\n",
       "      <td>13</td>\n",
       "      <td>0.021051</td>\n",
       "      <td>0.030500</td>\n",
       "      <td>0.974485</td>\n",
       "      <td>00:00</td>\n",
       "    </tr>\n",
       "    <tr>\n",
       "      <td>14</td>\n",
       "      <td>0.020445</td>\n",
       "      <td>0.029561</td>\n",
       "      <td>0.974975</td>\n",
       "      <td>00:00</td>\n",
       "    </tr>\n",
       "    <tr>\n",
       "      <td>15</td>\n",
       "      <td>0.019908</td>\n",
       "      <td>0.028731</td>\n",
       "      <td>0.975466</td>\n",
       "      <td>00:00</td>\n",
       "    </tr>\n",
       "    <tr>\n",
       "      <td>16</td>\n",
       "      <td>0.019429</td>\n",
       "      <td>0.027990</td>\n",
       "      <td>0.975957</td>\n",
       "      <td>00:00</td>\n",
       "    </tr>\n",
       "    <tr>\n",
       "      <td>17</td>\n",
       "      <td>0.018998</td>\n",
       "      <td>0.027323</td>\n",
       "      <td>0.977429</td>\n",
       "      <td>00:00</td>\n",
       "    </tr>\n",
       "    <tr>\n",
       "      <td>18</td>\n",
       "      <td>0.018606</td>\n",
       "      <td>0.026718</td>\n",
       "      <td>0.977429</td>\n",
       "      <td>00:00</td>\n",
       "    </tr>\n",
       "    <tr>\n",
       "      <td>19</td>\n",
       "      <td>0.018248</td>\n",
       "      <td>0.026168</td>\n",
       "      <td>0.978410</td>\n",
       "      <td>00:00</td>\n",
       "    </tr>\n",
       "    <tr>\n",
       "      <td>20</td>\n",
       "      <td>0.017920</td>\n",
       "      <td>0.025666</td>\n",
       "      <td>0.978410</td>\n",
       "      <td>00:00</td>\n",
       "    </tr>\n",
       "    <tr>\n",
       "      <td>21</td>\n",
       "      <td>0.017617</td>\n",
       "      <td>0.025206</td>\n",
       "      <td>0.978901</td>\n",
       "      <td>00:00</td>\n",
       "    </tr>\n",
       "    <tr>\n",
       "      <td>22</td>\n",
       "      <td>0.017335</td>\n",
       "      <td>0.024783</td>\n",
       "      <td>0.978901</td>\n",
       "      <td>00:00</td>\n",
       "    </tr>\n",
       "    <tr>\n",
       "      <td>23</td>\n",
       "      <td>0.017072</td>\n",
       "      <td>0.024394</td>\n",
       "      <td>0.979882</td>\n",
       "      <td>00:00</td>\n",
       "    </tr>\n",
       "    <tr>\n",
       "      <td>24</td>\n",
       "      <td>0.016826</td>\n",
       "      <td>0.024035</td>\n",
       "      <td>0.980373</td>\n",
       "      <td>00:00</td>\n",
       "    </tr>\n",
       "    <tr>\n",
       "      <td>25</td>\n",
       "      <td>0.016595</td>\n",
       "      <td>0.023702</td>\n",
       "      <td>0.980864</td>\n",
       "      <td>00:00</td>\n",
       "    </tr>\n",
       "    <tr>\n",
       "      <td>26</td>\n",
       "      <td>0.016378</td>\n",
       "      <td>0.023394</td>\n",
       "      <td>0.980864</td>\n",
       "      <td>00:00</td>\n",
       "    </tr>\n",
       "    <tr>\n",
       "      <td>27</td>\n",
       "      <td>0.016172</td>\n",
       "      <td>0.023108</td>\n",
       "      <td>0.980864</td>\n",
       "      <td>00:00</td>\n",
       "    </tr>\n",
       "    <tr>\n",
       "      <td>28</td>\n",
       "      <td>0.015977</td>\n",
       "      <td>0.022842</td>\n",
       "      <td>0.981354</td>\n",
       "      <td>00:00</td>\n",
       "    </tr>\n",
       "    <tr>\n",
       "      <td>29</td>\n",
       "      <td>0.015792</td>\n",
       "      <td>0.022595</td>\n",
       "      <td>0.981845</td>\n",
       "      <td>00:00</td>\n",
       "    </tr>\n",
       "    <tr>\n",
       "      <td>30</td>\n",
       "      <td>0.015616</td>\n",
       "      <td>0.022364</td>\n",
       "      <td>0.981845</td>\n",
       "      <td>00:00</td>\n",
       "    </tr>\n",
       "    <tr>\n",
       "      <td>31</td>\n",
       "      <td>0.015447</td>\n",
       "      <td>0.022148</td>\n",
       "      <td>0.981845</td>\n",
       "      <td>00:00</td>\n",
       "    </tr>\n",
       "    <tr>\n",
       "      <td>32</td>\n",
       "      <td>0.015287</td>\n",
       "      <td>0.021946</td>\n",
       "      <td>0.981845</td>\n",
       "      <td>00:00</td>\n",
       "    </tr>\n",
       "    <tr>\n",
       "      <td>33</td>\n",
       "      <td>0.015133</td>\n",
       "      <td>0.021757</td>\n",
       "      <td>0.982336</td>\n",
       "      <td>00:00</td>\n",
       "    </tr>\n",
       "    <tr>\n",
       "      <td>34</td>\n",
       "      <td>0.014986</td>\n",
       "      <td>0.021579</td>\n",
       "      <td>0.982826</td>\n",
       "      <td>00:00</td>\n",
       "    </tr>\n",
       "    <tr>\n",
       "      <td>35</td>\n",
       "      <td>0.014844</td>\n",
       "      <td>0.021411</td>\n",
       "      <td>0.982826</td>\n",
       "      <td>00:00</td>\n",
       "    </tr>\n",
       "    <tr>\n",
       "      <td>36</td>\n",
       "      <td>0.014708</td>\n",
       "      <td>0.021253</td>\n",
       "      <td>0.982826</td>\n",
       "      <td>00:00</td>\n",
       "    </tr>\n",
       "    <tr>\n",
       "      <td>37</td>\n",
       "      <td>0.014578</td>\n",
       "      <td>0.021103</td>\n",
       "      <td>0.982826</td>\n",
       "      <td>00:00</td>\n",
       "    </tr>\n",
       "    <tr>\n",
       "      <td>38</td>\n",
       "      <td>0.014452</td>\n",
       "      <td>0.020962</td>\n",
       "      <td>0.982826</td>\n",
       "      <td>00:00</td>\n",
       "    </tr>\n",
       "    <tr>\n",
       "      <td>39</td>\n",
       "      <td>0.014330</td>\n",
       "      <td>0.020827</td>\n",
       "      <td>0.982826</td>\n",
       "      <td>00:00</td>\n",
       "    </tr>\n",
       "  </tbody>\n",
       "</table>"
      ],
      "text/plain": [
       "<IPython.core.display.HTML object>"
      ]
     },
     "metadata": {},
     "output_type": "display_data"
    }
   ],
   "source": [
    "learn.fit(40, 0.1)"
   ]
  },
  {
   "cell_type": "code",
   "execution_count": 129,
   "metadata": {},
   "outputs": [
    {
     "data": {
      "image/png": "[encoded data removed]",
      "text/plain": [
       "<Figure size 432x288 with 1 Axes>"
      ]
     },
     "metadata": {
      "needs_background": "light"
     },
     "output_type": "display_data"
    }
   ],
   "source": [
    "plt.plot(L(learn.recorder.values).itemgot(2));"
   ]
  },
  {
   "cell_type": "code",
   "execution_count": 130,
   "metadata": {},
   "outputs": [
    {
     "data": {
      "text/plain": [
       "0.982826292514801"
      ]
     },
     "execution_count": 130,
     "metadata": {},
     "output_type": "execute_result"
    }
   ],
   "source": [
    "learn.recorder.values[-1][2]"
   ]
  },
  {
   "cell_type": "markdown",
   "metadata": {},
   "source": [
    "Finally, showing the power of deeper, more fine tuned models: an 18 layer neural network does a better job with just a single epoch"
   ]
  },
  {
   "cell_type": "code",
   "execution_count": 131,
   "metadata": {},
   "outputs": [
    {
     "data": {
      "text/html": [
       "<table border=\"1\" class=\"dataframe\">\n",
       "  <thead>\n",
       "    <tr style=\"text-align: left;\">\n",
       "      <th>epoch</th>\n",
       "      <th>train_loss</th>\n",
       "      <th>valid_loss</th>\n",
       "      <th>accuracy</th>\n",
       "      <th>time</th>\n",
       "    </tr>\n",
       "  </thead>\n",
       "  <tbody>\n",
       "    <tr>\n",
       "      <td>0</td>\n",
       "      <td>0.104944</td>\n",
       "      <td>0.018076</td>\n",
       "      <td>0.997056</td>\n",
       "      <td>00:22</td>\n",
       "    </tr>\n",
       "  </tbody>\n",
       "</table>"
      ],
      "text/plain": [
       "<IPython.core.display.HTML object>"
      ]
     },
     "metadata": {},
     "output_type": "display_data"
    }
   ],
   "source": [
    "dls = ImageDataLoaders.from_folder(path)\n",
    "learn = cnn_learner(dls, resnet18, pretrained=False,\n",
    "                    loss_func=F.cross_entropy, metrics=accuracy)\n",
    "learn.fit_one_cycle(1, 0.1)"
   ]
  },
  {
   "cell_type": "code",
   "execution_count": null,
   "metadata": {},
   "outputs": [],
   "source": []
  }
 ],
 "metadata": {
  "kernelspec": {
   "display_name": "Python 3",
   "language": "python",
   "name": "python3"
  },
  "language_info": {
   "codemirror_mode": {
    "name": "ipython",
    "version": 3
   },
   "file_extension": ".py",
   "mimetype": "text/x-python",
   "name": "python",
   "nbconvert_exporter": "python",
   "pygments_lexer": "ipython3",
   "version": "3.8.6"
  }
 },
 "nbformat": 4,
 "nbformat_minor": 4
}
